{
  "nbformat": 4,
  "nbformat_minor": 0,
  "metadata": {
    "colab": {
      "provenance": []
    },
    "kernelspec": {
      "name": "python3",
      "display_name": "Python 3"
    },
    "language_info": {
      "name": "python"
    }
  },
  "cells": [
    {
      "cell_type": "code",
      "execution_count": null,
      "metadata": {
        "id": "7jM7P4prnSHS"
      },
      "outputs": [],
      "source": [
        "import torch"
      ]
    },
    {
      "cell_type": "code",
      "source": [
        "x = torch.tensor([0.])\n",
        "y = torch.tensor([1.])\n",
        "\n",
        "for iteration in range(16):\n",
        "  x = x + y\n",
        "  y = y / 2\n",
        "  print(f\"Iteration {iteration:2d} | x = {x.item():.5f}, y = {y.item():.5f}\")\n",
        "\n",
        "'f strings, put in loop t show you every iteration-dont know details yet'\n",
        "\n",
        "print(x)\n",
        "print(y)"
      ],
      "metadata": {
        "colab": {
          "base_uri": "https://localhost:8080/"
        },
        "id": "LK8GuHz9nlh9",
        "outputId": "1f74efed-8593-4cc5-e855-29d649e98c72",
        "collapsed": true
      },
      "execution_count": null,
      "outputs": [
        {
          "output_type": "stream",
          "name": "stdout",
          "text": [
            "Iteration  0 | x = 1.00000, y = 0.50000\n",
            "Iteration  1 | x = 1.50000, y = 0.25000\n",
            "Iteration  2 | x = 1.75000, y = 0.12500\n",
            "Iteration  3 | x = 1.87500, y = 0.06250\n",
            "Iteration  4 | x = 1.93750, y = 0.03125\n",
            "Iteration  5 | x = 1.96875, y = 0.01562\n",
            "Iteration  6 | x = 1.98438, y = 0.00781\n",
            "Iteration  7 | x = 1.99219, y = 0.00391\n",
            "Iteration  8 | x = 1.99609, y = 0.00195\n",
            "Iteration  9 | x = 1.99805, y = 0.00098\n",
            "Iteration 10 | x = 1.99902, y = 0.00049\n",
            "Iteration 11 | x = 1.99951, y = 0.00024\n",
            "Iteration 12 | x = 1.99976, y = 0.00012\n",
            "Iteration 13 | x = 1.99988, y = 0.00006\n",
            "Iteration 14 | x = 1.99994, y = 0.00003\n",
            "Iteration 15 | x = 1.99997, y = 0.00002\n",
            "tensor([2.0000])\n",
            "tensor([1.5259e-05])\n"
          ]
        }
      ]
    },
    {
      "cell_type": "code",
      "source": [
        "import torch.nn as nn\n",
        "'torch.nn is a toolbox a module/library'\n",
        "'2 ways to define nn, start w/ sequential'\n",
        "'Sequential is a class=blueprint for obj that stacks & runs layers in seq'"
      ],
      "metadata": {
        "id": "I9G1c2ufnllU",
        "colab": {
          "base_uri": "https://localhost:8080/",
          "height": 36
        },
        "outputId": "d84bfad5-7996-460e-b081-a7d0577cf7db"
      },
      "execution_count": null,
      "outputs": [
        {
          "output_type": "execute_result",
          "data": {
            "text/plain": [
              "'Sequential is a class=blueprint for obj that stacks & runs layers in seq'"
            ],
            "application/vnd.google.colaboratory.intrinsic+json": {
              "type": "string"
            }
          },
          "metadata": {},
          "execution_count": 16
        }
      ]
    },
    {
      "cell_type": "code",
      "source": [
        "'linear operation takes # of inputfeatures and outputfeatures and creates weight vect'"
      ],
      "metadata": {
        "id": "xixsWiNT4IBf"
      },
      "execution_count": null,
      "outputs": []
    },
    {
      "cell_type": "code",
      "source": [
        "my_neuralnet = nn.Sequential(\n",
        "    nn.Linear(3,2) ,\n",
        "    nn.ReLU() ,\n",
        "    nn.Linear(2,1) ,\n",
        "    nn.Sigmoid()\n",
        "\n",
        ")"
      ],
      "metadata": {
        "id": "9VgRwXn44IDU"
      },
      "execution_count": null,
      "outputs": []
    },
    {
      "cell_type": "code",
      "source": [
        "'create nn class by inheriting class of  nn module and overriding methods-initilaizer and forward'"
      ],
      "metadata": {
        "id": "1JDKmt2X4IGr"
      },
      "execution_count": null,
      "outputs": []
    },
    {
      "cell_type": "code",
      "source": [
        "class MyNeuralNet(nn.module):\n",
        "  def __init__(self): #'includes all operations part of NN, self is arb first agrgument passed to all methods'\n",
        "  #'self represents instance of class, the object defined, has attributes=variables and methods=functions which can be accessed'\n",
        "    super().__init__() # 'super() acess parent class, lets parent class set everything up before add more, need else break'\n"
      ],
      "metadata": {
        "colab": {
          "base_uri": "https://localhost:8080/",
          "height": 193
        },
        "id": "HdfS4hkczdlM",
        "outputId": "e26325e9-c257-4b6c-8ff9-be83afe6ac38"
      },
      "execution_count": null,
      "outputs": [
        {
          "output_type": "error",
          "ename": "AttributeError",
          "evalue": "module 'torch.nn' has no attribute 'module'",
          "traceback": [
            "\u001b[0;31m---------------------------------------------------------------------------\u001b[0m",
            "\u001b[0;31mAttributeError\u001b[0m                            Traceback (most recent call last)",
            "\u001b[0;32m/tmp/ipython-input-18-549581269.py\u001b[0m in \u001b[0;36m<cell line: 0>\u001b[0;34m()\u001b[0m\n\u001b[0;32m----> 1\u001b[0;31m \u001b[0;32mclass\u001b[0m \u001b[0mMyNeuralNet\u001b[0m\u001b[0;34m(\u001b[0m\u001b[0mnn\u001b[0m\u001b[0;34m.\u001b[0m\u001b[0mmodule\u001b[0m\u001b[0;34m)\u001b[0m\u001b[0;34m:\u001b[0m\u001b[0;34m\u001b[0m\u001b[0;34m\u001b[0m\u001b[0m\n\u001b[0m\u001b[1;32m      2\u001b[0m   \u001b[0;32mdef\u001b[0m \u001b[0m__init__\u001b[0m\u001b[0;34m(\u001b[0m\u001b[0mself\u001b[0m\u001b[0;34m)\u001b[0m\u001b[0;34m:\u001b[0m \u001b[0;31m#'includes all operations part of NN, self is arb first agrgument passed to all methods'\u001b[0m\u001b[0;34m\u001b[0m\u001b[0;34m\u001b[0m\u001b[0m\n\u001b[1;32m      3\u001b[0m   \u001b[0;31m#'self represents instance of class, the object defined, has attributes=variables and methods=functions which can be accessed'\u001b[0m\u001b[0;34m\u001b[0m\u001b[0;34m\u001b[0m\u001b[0m\n\u001b[1;32m      4\u001b[0m     \u001b[0msuper\u001b[0m\u001b[0;34m(\u001b[0m\u001b[0;34m)\u001b[0m\u001b[0;34m.\u001b[0m\u001b[0m__init__\u001b[0m\u001b[0;34m(\u001b[0m\u001b[0;34m)\u001b[0m \u001b[0;31m# 'super() acess parent class, lets parent class set everything up before add more, need else break'\u001b[0m\u001b[0;34m\u001b[0m\u001b[0;34m\u001b[0m\u001b[0m\n",
            "\u001b[0;31mAttributeError\u001b[0m: module 'torch.nn' has no attribute 'module'"
          ]
        }
      ]
    },
    {
      "cell_type": "code",
      "source": [
        "# We have to store the operations defined in PyTorch as attributes/variables of self/object\n",
        "\n",
        "class MyNeuralNet(nn.Module): # Corrected nn.module to nn.Module\n",
        "  # __init__ includes all operations part of NN, self is arb first agrgument passed to all methods\n",
        "  # self represents instance of class, the object defined, has attributes=variables and methods=functions which can be accessed\n",
        "  def __init__(self, input_size, n_nodes, output_size): # Added input_size, n_nodes, output_size as arguments\n",
        "    # super() acess parent class, lets parent class set everything up before add more, need else break\n",
        "    super(MyNeuralNet,self).__init__()\n",
        "    # dont hard code sizes of input/out use variable instead\n",
        "    self.operationOne = nn.Linear(input_size,n_nodes)\n",
        "    self.operationTwo = nn.Linear(n_nodes,output_size)\n",
        "\n",
        "  # forward describes flow of data across layers, x is placeholder for real data\n",
        "  def forward(self,x):\n",
        "    # passing data to first operation\n",
        "    x=self.operationOne(x)\n",
        "    # pass output of this operation into nonlinear ReLU -this is a function, a direction transform, no object defined\n",
        "    x=nn.functional.relu(x)\n",
        "    x=self.operationTwo(x)\n",
        "    output=nn.functional.sigmoid(x)\n",
        "    return output"
      ],
      "metadata": {
        "collapsed": true,
        "id": "-Ntc9oxUzdnv"
      },
      "execution_count": null,
      "outputs": []
    },
    {
      "cell_type": "code",
      "source": [
        "def forward(self,x): #'describes flow of data across layers, x is placeholder for real data'\n",
        "  x=self.operationOne(x)#'passing data to first operation'\n",
        "  x=nn.functional.relu(x) #'pass output of this operation into nonlinear ReLU -this is a function, a direction transform, no object defined'\n",
        "  x=self.operationTwo(x)\n",
        "  output=nn.functional.sigmoid(x)\n",
        "  return output"
      ],
      "metadata": {
        "id": "uyzoV6NfzdqW"
      },
      "execution_count": null,
      "outputs": []
    },
    {
      "cell_type": "code",
      "source": [
        "import torch\n",
        "import torch.nn as nn\n",
        "import torch.nn.functional as F\n",
        "\n",
        "class MyNeuralNet(nn.Module):\n",
        "  def __init__(self, input_size, n_nodes, output_size):\n",
        "    super(MyNeuralNet, self).__init__()\n",
        "    self.operationOne = nn.Linear(input_size, n_nodes)\n",
        "    self.operationTwo = nn.Linear(n_nodes, output_size)\n",
        "\n",
        "  def forward(self, x):\n",
        "    x = self.operationOne(x)\n",
        "    x = F.relu(x)\n",
        "    x = self.operationTwo(x)\n",
        "    output = F.sigmoid(x)\n",
        "    return output\n",
        "'need to instatiate data'\n",
        "my_network = MyNeuralNet(input_size = 3, n_nodes = 2, output_size = 1)"
      ],
      "metadata": {
        "id": "9J7TzO_m-VqL"
      },
      "execution_count": null,
      "outputs": []
    },
    {
      "cell_type": "code",
      "source": [
        "'CHAPTER 2'\n",
        "import torch\n",
        "firstordertensor= torch.tensor([1,2,3]) #define python list as a tensor/matrix, in this case 1d tensor is vector\n",
        "print(firstordertensor)\n",
        "\n",
        "second_order_tensor = torch.tensor([ [ 11, 22, 33 ],\n",
        " [ 21, 22, 23 ]\n",
        " ])\n",
        "print(second_order_tensor)\n",
        "print(second_order_tensor[1,2]) #show 23, do this by going in first order tensors"
      ],
      "metadata": {
        "colab": {
          "base_uri": "https://localhost:8080/"
        },
        "id": "2-M2Q2KQ-VsZ",
        "outputId": "d5d57b9b-7bf3-4bf4-d815-c2d22464dfd3"
      },
      "execution_count": null,
      "outputs": [
        {
          "output_type": "stream",
          "name": "stdout",
          "text": [
            "tensor([1, 2, 3])\n",
            "tensor([[11, 22, 33],\n",
            "        [21, 22, 23]])\n",
            "tensor(23)\n"
          ]
        }
      ]
    },
    {
      "cell_type": "code",
      "source": [
        "fourth_order_tensor = torch.tensor(\n",
        "[\n",
        " [\n",
        " [\n",
        " [1111, 1112],\n",
        " [1121, 1122]\n",
        " ],\n",
        " [\n",
        "\n",
        " [1211, 1212],\n",
        " [1221, 1222]\n",
        " ]\n",
        " ],\n",
        " [\n",
        " [\n",
        " [2111, 2112],\n",
        " [2121, 2122]\n",
        " ],\n",
        " [\n",
        " [2211, 2212],\n",
        " [2221, 2222]\n",
        " ]\n",
        " ]\n",
        "])\n",
        "print(fourth_order_tensor)\n",
        "print(fourth_order_tensor[0,1,0,1])\n",
        "\n",
        "print(fourth_order_tensor.shape)"
      ],
      "metadata": {
        "colab": {
          "base_uri": "https://localhost:8080/"
        },
        "id": "-SkVEV9mDDCC",
        "outputId": "af4cbdd8-c648-483f-98fe-05331fc2de4c"
      },
      "execution_count": null,
      "outputs": [
        {
          "output_type": "stream",
          "name": "stdout",
          "text": [
            "tensor([[[[1111, 1112],\n",
            "          [1121, 1122]],\n",
            "\n",
            "         [[1211, 1212],\n",
            "          [1221, 1222]]],\n",
            "\n",
            "\n",
            "        [[[2111, 2112],\n",
            "          [2121, 2122]],\n",
            "\n",
            "         [[2211, 2212],\n",
            "          [2221, 2222]]]])\n",
            "tensor(1212)\n",
            "torch.Size([2, 2, 2, 2])\n"
          ]
        }
      ]
    },
    {
      "cell_type": "code",
      "source": [
        "'to generate tensors with random elements of our desired shape using torch.rand() '\n",
        "random=torch.rand([2,3])\n",
        "print(random)"
      ],
      "metadata": {
        "colab": {
          "base_uri": "https://localhost:8080/"
        },
        "id": "8dysGw9ODDEV",
        "outputId": "88e0076c-3656-4cd5-fa56-417d8683cdfd"
      },
      "execution_count": null,
      "outputs": [
        {
          "output_type": "stream",
          "name": "stdout",
          "text": [
            "tensor([[0.0768, 0.5075, 0.2518],\n",
            "        [0.3514, 0.6890, 0.9977]])\n"
          ]
        }
      ]
    },
    {
      "cell_type": "code",
      "source": [
        "random.view ([3,2]) #lets you reshape the tensor, but not saved 'til assigned a value. Can use -1 to compue size of axis but I DONT UNDERSTAND"
      ],
      "metadata": {
        "colab": {
          "base_uri": "https://localhost:8080/"
        },
        "id": "-uvy8gSBDDGV",
        "outputId": "a842e9f3-4648-4f29-c33f-ac58ac2e351a"
      },
      "execution_count": null,
      "outputs": [
        {
          "output_type": "execute_result",
          "data": {
            "text/plain": [
              "tensor([[0.0768, 0.5075],\n",
              "        [0.2518, 0.3514],\n",
              "        [0.6890, 0.9977]])"
            ]
          },
          "metadata": {},
          "execution_count": 24
        }
      ]
    },
    {
      "cell_type": "code",
      "source": [
        "#Operations\n",
        "x = torch.tensor([5, 3])\n",
        "y = torch.tensor([3, 2])\n",
        "torch.add(x, y)\n",
        "# tensor([8, 5])\n",
        "torch.sub(x, y)\n",
        "# tensor([2, 1])\n",
        "torch.mul(x, y)\n",
        "# tensor([15, 6])\n",
        "#Matrix multiplication\n",
        "print(torch.matmul(x,y))\n",
        "print(x@y)"
      ],
      "metadata": {
        "colab": {
          "base_uri": "https://localhost:8080/"
        },
        "id": "Zx8EyH8vHZLz",
        "outputId": "26d9166c-1beb-4db9-d814-6b316ef92ccd"
      },
      "execution_count": null,
      "outputs": [
        {
          "output_type": "stream",
          "name": "stdout",
          "text": [
            "tensor(21)\n",
            "tensor(21)\n"
          ]
        }
      ]
    },
    {
      "cell_type": "code",
      "source": [
        "admit_data = [\n",
        "    [0, 380, 3.61, 3],\n",
        "    [1, 660, 3.67, 3],\n",
        "    [1, 800, 4.00, 1],\n",
        "    [1, 640, 3.19, 4],\n",
        "    [0, 520, 2.93, 4],\n",
        "    [1, 760, 3.00, 2],\n",
        "    [1, 560, 2.98, 1],\n",
        "    [0, 400, 3.08, 2],\n",
        "    [1, 540, 3.39, 3],\n",
        "]\n",
        "\n",
        "admit_tensor = torch.tensor(admit_data, dtype=torch.float32)\n",
        "\n",
        "print(admit_tensor)"
      ],
      "metadata": {
        "colab": {
          "base_uri": "https://localhost:8080/"
        },
        "id": "RNqxMOiQLeBD",
        "outputId": "bdb3cf23-b260-47aa-930c-d83d23baf2f3"
      },
      "execution_count": null,
      "outputs": [
        {
          "output_type": "stream",
          "name": "stdout",
          "text": [
            "tensor([[  0.0000, 380.0000,   3.6100,   3.0000],\n",
            "        [  1.0000, 660.0000,   3.6700,   3.0000],\n",
            "        [  1.0000, 800.0000,   4.0000,   1.0000],\n",
            "        [  1.0000, 640.0000,   3.1900,   4.0000],\n",
            "        [  0.0000, 520.0000,   2.9300,   4.0000],\n",
            "        [  1.0000, 760.0000,   3.0000,   2.0000],\n",
            "        [  1.0000, 560.0000,   2.9800,   1.0000],\n",
            "        [  0.0000, 400.0000,   3.0800,   2.0000],\n",
            "        [  1.0000, 540.0000,   3.3900,   3.0000]])\n"
          ]
        }
      ]
    },
    {
      "cell_type": "code",
      "source": [
        "x_train = admit_tensor[:6, 1:]  # Take columns 1 to end (GRE, GPA, Rank)\n",
        "x_train = x_train / torch.tensor([800.0, 4.0, 4.0]) #Normalize training\n",
        "\n",
        "y_train = admit_tensor[:6, 0]   # Take column 0 (Admit Status)\n",
        "\n",
        "x_test = admit_tensor[6:, 1:]\n",
        "y_test = admit_tensor[6:, 0]\n",
        "\n",
        "print(x_train)\n",
        "print(y_train)\n",
        "print(x_test)\n",
        "print(y_test)"
      ],
      "metadata": {
        "colab": {
          "base_uri": "https://localhost:8080/"
        },
        "id": "N-XKootvLeDJ",
        "outputId": "4a4d9ee3-539b-4c4e-8155-5d4e7bb7fe14"
      },
      "execution_count": null,
      "outputs": [
        {
          "output_type": "stream",
          "name": "stdout",
          "text": [
            "tensor([[0.4750, 0.9025, 0.7500],\n",
            "        [0.8250, 0.9175, 0.7500],\n",
            "        [1.0000, 1.0000, 0.2500],\n",
            "        [0.8000, 0.7975, 1.0000],\n",
            "        [0.6500, 0.7325, 1.0000],\n",
            "        [0.9500, 0.7500, 0.5000]])\n",
            "tensor([0., 1., 1., 1., 0., 1.])\n",
            "tensor([[560.0000,   2.9800,   1.0000],\n",
            "        [400.0000,   3.0800,   2.0000],\n",
            "        [540.0000,   3.3900,   3.0000]])\n",
            "tensor([1., 0., 1.])\n"
          ]
        }
      ]
    },
    {
      "cell_type": "code",
      "source": [
        "print(\"x_train shape:\", x_train.shape)  # (6, 3)\n",
        "print(\"y_train shape:\", y_train.shape)  # (6,)\n",
        "print(\"x_test shape:\", x_test.shape)    # (3, 3)\n",
        "print(\"y_test shape:\", y_test.shape)    # (3,)\n"
      ],
      "metadata": {
        "colab": {
          "base_uri": "https://localhost:8080/"
        },
        "id": "N_teuFJ8SH2t",
        "outputId": "ffca0d5d-7c5e-4bbb-f793-2ec1e837e979"
      },
      "execution_count": null,
      "outputs": [
        {
          "output_type": "stream",
          "name": "stdout",
          "text": [
            "x_train shape: torch.Size([6, 3])\n",
            "y_train shape: torch.Size([6])\n",
            "x_test shape: torch.Size([3, 3])\n",
            "y_test shape: torch.Size([3])\n"
          ]
        }
      ]
    },
    {
      "cell_type": "code",
      "source": [
        "#need criterion to generate a loss score proprotional to how far from target\n",
        "criterion=nn.BCELoss() #Binary Cross Entropy Loss, using max log likelihood"
      ],
      "metadata": {
        "id": "FDXVL3FlSH3f"
      },
      "execution_count": null,
      "outputs": []
    },
    {
      "cell_type": "code",
      "source": [
        "#Optimizer takes score to adjust weights. Process Iterates=Training Phase.\n",
        "optimizer=torch.optim.SGD(my_network.parameters(),lr=0.01)"
      ],
      "metadata": {
        "id": "-L8U4oXXSH8A"
      },
      "execution_count": null,
      "outputs": []
    },
    {
      "cell_type": "code",
      "source": [
        "for epoch in range(100):\n",
        "  #Forward Propagation\n",
        "  y_pred=my_network(x_train)\n",
        "  #Loss\n",
        "  loss=criterion(y_pred,y_train.unsqueeze(1)) # Reshape y_train\n",
        "  print('epoch: ', epoch,' loss: ', loss.item())\n",
        "  #Zero Gradients\n",
        "  optimizer.zero_grad()\n",
        "  #Backward Propagation\n",
        "  loss.backward()\n",
        "  #Update Weights\n",
        "  optimizer.step()"
      ],
      "metadata": {
        "colab": {
          "base_uri": "https://localhost:8080/"
        },
        "id": "0GQZdafRSH-1",
        "outputId": "0bdc6072-c866-48a9-810a-9e76fe92f96f",
        "collapsed": true
      },
      "execution_count": null,
      "outputs": [
        {
          "output_type": "stream",
          "name": "stdout",
          "text": [
            "epoch:  0  loss:  0.6859034895896912\n",
            "epoch:  1  loss:  0.6856622695922852\n",
            "epoch:  2  loss:  0.6854221820831299\n",
            "epoch:  3  loss:  0.6851832866668701\n",
            "epoch:  4  loss:  0.6849455833435059\n",
            "epoch:  5  loss:  0.6847091317176819\n",
            "epoch:  6  loss:  0.6844738125801086\n",
            "epoch:  7  loss:  0.6842396855354309\n",
            "epoch:  8  loss:  0.6840067505836487\n",
            "epoch:  9  loss:  0.6837749481201172\n",
            "epoch:  10  loss:  0.6835443377494812\n",
            "epoch:  11  loss:  0.6833148002624512\n",
            "epoch:  12  loss:  0.6830864548683167\n",
            "epoch:  13  loss:  0.6828592419624329\n",
            "epoch:  14  loss:  0.6826332211494446\n",
            "epoch:  15  loss:  0.6824082732200623\n",
            "epoch:  16  loss:  0.6821843981742859\n",
            "epoch:  17  loss:  0.681961715221405\n",
            "epoch:  18  loss:  0.6817402243614197\n",
            "epoch:  19  loss:  0.6815195679664612\n",
            "epoch:  20  loss:  0.6813002228736877\n",
            "epoch:  21  loss:  0.681082010269165\n",
            "epoch:  22  loss:  0.6808648109436035\n",
            "epoch:  23  loss:  0.6806485652923584\n",
            "epoch:  24  loss:  0.6804335713386536\n",
            "epoch:  25  loss:  0.6802195906639099\n",
            "epoch:  26  loss:  0.6800066828727722\n",
            "epoch:  27  loss:  0.6797948479652405\n",
            "epoch:  28  loss:  0.6795839667320251\n",
            "epoch:  29  loss:  0.6793742775917053\n",
            "epoch:  30  loss:  0.6791655421257019\n",
            "epoch:  31  loss:  0.678957998752594\n",
            "epoch:  32  loss:  0.6787512898445129\n",
            "epoch:  33  loss:  0.6785457730293274\n",
            "epoch:  34  loss:  0.6783412098884583\n",
            "epoch:  35  loss:  0.6781376004219055\n",
            "epoch:  36  loss:  0.6779351234436035\n",
            "epoch:  37  loss:  0.6777336001396179\n",
            "epoch:  38  loss:  0.6775330901145935\n",
            "epoch:  39  loss:  0.677333414554596\n",
            "epoch:  40  loss:  0.6771349906921387\n",
            "epoch:  41  loss:  0.6769374012947083\n",
            "epoch:  42  loss:  0.6767408847808838\n",
            "epoch:  43  loss:  0.6765453219413757\n",
            "epoch:  44  loss:  0.6763507723808289\n",
            "epoch:  45  loss:  0.6761571764945984\n",
            "epoch:  46  loss:  0.6759644150733948\n",
            "epoch:  47  loss:  0.6757726669311523\n",
            "epoch:  48  loss:  0.6755819320678711\n",
            "epoch:  49  loss:  0.6753921508789062\n",
            "epoch:  50  loss:  0.6752033233642578\n",
            "epoch:  51  loss:  0.6750154495239258\n",
            "epoch:  52  loss:  0.6748283505439758\n",
            "epoch:  53  loss:  0.6746422648429871\n",
            "epoch:  54  loss:  0.6744572520256042\n",
            "epoch:  55  loss:  0.6742729544639587\n",
            "epoch:  56  loss:  0.6740896701812744\n",
            "epoch:  57  loss:  0.6739072799682617\n",
            "epoch:  58  loss:  0.6737258434295654\n",
            "epoch:  59  loss:  0.6735451817512512\n",
            "epoch:  60  loss:  0.6733655333518982\n",
            "epoch:  61  loss:  0.673186719417572\n",
            "epoch:  62  loss:  0.6730088591575623\n",
            "epoch:  63  loss:  0.6728318333625793\n",
            "epoch:  64  loss:  0.6726558208465576\n",
            "epoch:  65  loss:  0.6724805235862732\n",
            "epoch:  66  loss:  0.6723061203956604\n",
            "epoch:  67  loss:  0.672132670879364\n",
            "epoch:  68  loss:  0.6719599366188049\n",
            "epoch:  69  loss:  0.6717881560325623\n",
            "epoch:  70  loss:  0.6716170907020569\n",
            "epoch:  71  loss:  0.6714470386505127\n",
            "epoch:  72  loss:  0.6712778210639954\n",
            "epoch:  73  loss:  0.6711094975471497\n",
            "epoch:  74  loss:  0.6709418296813965\n",
            "epoch:  75  loss:  0.6707751154899597\n",
            "epoch:  76  loss:  0.670609176158905\n",
            "epoch:  77  loss:  0.6704441905021667\n",
            "epoch:  78  loss:  0.6702799201011658\n",
            "epoch:  79  loss:  0.6701164245605469\n",
            "epoch:  80  loss:  0.6699538230895996\n",
            "epoch:  81  loss:  0.6697919368743896\n",
            "epoch:  82  loss:  0.6696309447288513\n",
            "epoch:  83  loss:  0.6694707274436951\n",
            "epoch:  84  loss:  0.6693112850189209\n",
            "epoch:  85  loss:  0.669152557849884\n",
            "epoch:  86  loss:  0.668994665145874\n",
            "epoch:  87  loss:  0.6688376069068909\n",
            "epoch:  88  loss:  0.6686813831329346\n",
            "epoch:  89  loss:  0.6685258746147156\n",
            "epoch:  90  loss:  0.6683710217475891\n",
            "epoch:  91  loss:  0.6682171821594238\n",
            "epoch:  92  loss:  0.6680639386177063\n",
            "epoch:  93  loss:  0.6679113507270813\n",
            "epoch:  94  loss:  0.6677598357200623\n",
            "epoch:  95  loss:  0.6676087379455566\n",
            "epoch:  96  loss:  0.6674585342407227\n",
            "epoch:  97  loss:  0.6673092246055603\n",
            "epoch:  98  loss:  0.6671604514122009\n",
            "epoch:  99  loss:  0.6670124530792236\n"
          ]
        }
      ]
    },
    {
      "cell_type": "code",
      "source": [
        "import torch\n",
        "import torch.nn as nn\n",
        "\n",
        "# Step 1: Data\n",
        "admit_tensor = torch.tensor([\n",
        "    [0, 380, 3.61, 3],\n",
        "    [1, 660, 3.67, 3],\n",
        "    [1, 800, 4.00, 1],\n",
        "    [1, 640, 3.19, 4],\n",
        "    [0, 520, 2.93, 4],\n",
        "    [1, 760, 3.00, 2],\n",
        "    [1, 560, 2.98, 1],\n",
        "    [0, 400, 3.08, 2],\n",
        "    [1, 540, 3.39, 3],\n",
        "], dtype=torch.float32)\n",
        "\n",
        "x_train = admit_tensor[:6, 1:]\n",
        "y_train = admit_tensor[:6, 0].unsqueeze(1)\n",
        "\n",
        "# Step 2: Normalize input\n",
        "x_train = x_train / torch.tensor([800.0, 4.0, 4.0])\n",
        "\n",
        "# Step 3: Model + Loss\n",
        "model = nn.Sequential(\n",
        "    nn.Linear(3, 1),\n",
        "    nn.Sigmoid()\n",
        ")\n",
        "loss_fn = nn.BCELoss()\n",
        "optimizer = torch.optim.Adam(model.parameters(), lr=0.01)\n",
        "\n",
        "# Step 4: Training loop\n",
        "for epoch in range(100):\n",
        "    y_pred = model(x_train)\n",
        "    loss = loss_fn(y_pred, y_train)\n",
        "\n",
        "    print(f\"Epoch {epoch:3d} | Loss: {loss.item():.5f}\")\n",
        "    print(f\"y_pred: {y_pred.view(-1).tolist()}\")\n",
        "    print(f\"y_train: {y_train.view(-1).tolist()}\")\n",
        "    print(\"—\" * 40)\n",
        "\n",
        "    optimizer.zero_grad()\n",
        "    loss.backward()\n",
        "    optimizer.step()\n"
      ],
      "metadata": {
        "colab": {
          "base_uri": "https://localhost:8080/"
        },
        "id": "2Fd6H85bwrJy",
        "outputId": "4a5b2337-1e73-4bf2-ef0c-0ecfd49d4005",
        "collapsed": true
      },
      "execution_count": null,
      "outputs": [
        {
          "output_type": "stream",
          "name": "stdout",
          "text": [
            "Epoch   0 | Loss: 0.73191\n",
            "y_pred: [0.44387954473495483, 0.4372272193431854, 0.4772021174430847, 0.4100476801395416, 0.4083331823348999, 0.43985608220100403]\n",
            "y_train: [0.0, 1.0, 1.0, 1.0, 0.0, 1.0]\n",
            "————————————————————————————————————————\n",
            "Epoch   1 | Loss: 0.72404\n",
            "y_pred: [0.45161277055740356, 0.4458388686180115, 0.4853155314922333, 0.4187776446342468, 0.4165298044681549, 0.447754830121994]\n",
            "y_train: [0.0, 1.0, 1.0, 1.0, 0.0, 1.0]\n",
            "————————————————————————————————————————\n",
            "Epoch   2 | Loss: 0.71644\n",
            "y_pred: [0.45936015248298645, 0.45447322726249695, 0.4934283196926117, 0.42754828929901123, 0.42476287484169006, 0.45567139983177185]\n",
            "y_train: [0.0, 1.0, 1.0, 1.0, 0.0, 1.0]\n",
            "————————————————————————————————————————\n",
            "Epoch   3 | Loss: 0.70913\n",
            "y_pred: [0.467111200094223, 0.46311789751052856, 0.501530110836029, 0.4363464117050171, 0.4330204129219055, 0.4635954797267914]\n",
            "y_train: [0.0, 1.0, 1.0, 1.0, 0.0, 1.0]\n",
            "————————————————————————————————————————\n",
            "Epoch   4 | Loss: 0.70212\n",
            "y_pred: [0.47485479712486267, 0.4717596769332886, 0.5096102356910706, 0.44515812397003174, 0.4412897229194641, 0.4715162515640259]\n",
            "y_train: [0.0, 1.0, 1.0, 1.0, 0.0, 1.0]\n",
            "————————————————————————————————————————\n",
            "Epoch   5 | Loss: 0.69541\n",
            "y_pred: [0.48257938027381897, 0.4803850054740906, 0.5176576375961304, 0.45396876335144043, 0.4495576024055481, 0.4794224500656128]\n",
            "y_train: [0.0, 1.0, 1.0, 1.0, 0.0, 1.0]\n",
            "————————————————————————————————————————\n",
            "Epoch   6 | Loss: 0.68899\n",
            "y_pred: [0.4902729392051697, 0.48897987604141235, 0.525661289691925, 0.4627629816532135, 0.4578099846839905, 0.4873024821281433]\n",
            "y_train: [0.0, 1.0, 1.0, 1.0, 0.0, 1.0]\n",
            "————————————————————————————————————————\n",
            "Epoch   7 | Loss: 0.68288\n",
            "y_pred: [0.4979228675365448, 0.4975297451019287, 0.5336096882820129, 0.47152483463287354, 0.4660322666168213, 0.4951443076133728]\n",
            "y_train: [0.0, 1.0, 1.0, 1.0, 0.0, 1.0]\n",
            "————————————————————————————————————————\n",
            "Epoch   8 | Loss: 0.67708\n",
            "y_pred: [0.5055163502693176, 0.5060195922851562, 0.5414913296699524, 0.48023781180381775, 0.47420936822891235, 0.5029357075691223]\n",
            "y_train: [0.0, 1.0, 1.0, 1.0, 0.0, 1.0]\n",
            "————————————————————————————————————————\n",
            "Epoch   9 | Loss: 0.67158\n",
            "y_pred: [0.5130401849746704, 0.5144343972206116, 0.5492947101593018, 0.48888519406318665, 0.4823256731033325, 0.5106641054153442]\n",
            "y_train: [0.0, 1.0, 1.0, 1.0, 0.0, 1.0]\n",
            "————————————————————————————————————————\n",
            "Epoch  10 | Loss: 0.66638\n",
            "y_pred: [0.5204809308052063, 0.5227587223052979, 0.5570082068443298, 0.4974495470523834, 0.49036502838134766, 0.5183167457580566]\n",
            "y_train: [0.0, 1.0, 1.0, 1.0, 0.0, 1.0]\n",
            "————————————————————————————————————————\n",
            "Epoch  11 | Loss: 0.66148\n",
            "y_pred: [0.5278249979019165, 0.530977189540863, 0.5646204352378845, 0.5059133768081665, 0.49831122159957886, 0.5258809328079224]\n",
            "y_train: [0.0, 1.0, 1.0, 1.0, 0.0, 1.0]\n",
            "————————————————————————————————————————\n",
            "Epoch  12 | Loss: 0.65688\n",
            "y_pred: [0.5350586771965027, 0.539074182510376, 0.5721201300621033, 0.5142589807510376, 0.506147563457489, 0.5333437919616699]\n",
            "y_train: [0.0, 1.0, 1.0, 1.0, 0.0, 1.0]\n",
            "————————————————————————————————————————\n",
            "Epoch  13 | Loss: 0.65257\n",
            "y_pred: [0.5421680808067322, 0.547034502029419, 0.5794960856437683, 0.522468626499176, 0.5138574242591858, 0.5406925678253174]\n",
            "y_train: [0.0, 1.0, 1.0, 1.0, 0.0, 1.0]\n",
            "————————————————————————————————————————\n",
            "Epoch  14 | Loss: 0.64855\n",
            "y_pred: [0.5491396188735962, 0.5548428893089294, 0.5867376327514648, 0.5305247902870178, 0.5214241147041321, 0.5479146838188171]\n",
            "y_train: [0.0, 1.0, 1.0, 1.0, 0.0, 1.0]\n",
            "————————————————————————————————————————\n",
            "Epoch  15 | Loss: 0.64481\n",
            "y_pred: [0.5559598207473755, 0.5624845623970032, 0.5938344597816467, 0.5384101867675781, 0.5288311243057251, 0.5549977421760559]\n",
            "y_train: [0.0, 1.0, 1.0, 1.0, 0.0, 1.0]\n",
            "————————————————————————————————————————\n",
            "Epoch  16 | Loss: 0.64134\n",
            "y_pred: [0.5626154541969299, 0.569945216178894, 0.6007765531539917, 0.5461077690124512, 0.5360621213912964, 0.5619298815727234]\n",
            "y_train: [0.0, 1.0, 1.0, 1.0, 0.0, 1.0]\n",
            "————————————————————————————————————————\n",
            "Epoch  17 | Loss: 0.63812\n",
            "y_pred: [0.5690937638282776, 0.5772111415863037, 0.6075546741485596, 0.5536012053489685, 0.5431013107299805, 0.5686993598937988]\n",
            "y_train: [0.0, 1.0, 1.0, 1.0, 0.0, 1.0]\n",
            "————————————————————————————————————————\n",
            "Epoch  18 | Loss: 0.63516\n",
            "y_pred: [0.5753824710845947, 0.5842691659927368, 0.6141600012779236, 0.5608749389648438, 0.5499334931373596, 0.5752953886985779]\n",
            "y_train: [0.0, 1.0, 1.0, 1.0, 0.0, 1.0]\n",
            "————————————————————————————————————————\n",
            "Epoch  19 | Loss: 0.63243\n",
            "y_pred: [0.5814698934555054, 0.591107189655304, 0.6205845475196838, 0.5679140090942383, 0.5565441250801086, 0.5817075371742249]\n",
            "y_train: [0.0, 1.0, 1.0, 1.0, 0.0, 1.0]\n",
            "————————————————————————————————————————\n",
            "Epoch  20 | Loss: 0.62993\n",
            "y_pred: [0.58734530210495, 0.5977138876914978, 0.6268211007118225, 0.5747047662734985, 0.562919557094574, 0.5879262089729309]\n",
            "y_train: [0.0, 1.0, 1.0, 1.0, 0.0, 1.0]\n",
            "————————————————————————————————————————\n",
            "Epoch  21 | Loss: 0.62764\n",
            "y_pred: [0.592998743057251, 0.6040792465209961, 0.6328632831573486, 0.5812347531318665, 0.5690473318099976, 0.5939427614212036]\n",
            "y_train: [0.0, 1.0, 1.0, 1.0, 0.0, 1.0]\n",
            "————————————————————————————————————————\n",
            "Epoch  22 | Loss: 0.62554\n",
            "y_pred: [0.5984212160110474, 0.610194206237793, 0.6387053728103638, 0.5874926447868347, 0.5749160647392273, 0.5997495055198669]\n",
            "y_train: [0.0, 1.0, 1.0, 1.0, 0.0, 1.0]\n",
            "————————————————————————————————————————\n",
            "Epoch  23 | Loss: 0.62363\n",
            "y_pred: [0.6036049127578735, 0.6160510182380676, 0.644342839717865, 0.5934687852859497, 0.5805158019065857, 0.6053395867347717]\n",
            "y_train: [0.0, 1.0, 1.0, 1.0, 0.0, 1.0]\n",
            "————————————————————————————————————————\n",
            "Epoch  24 | Loss: 0.62188\n",
            "y_pred: [0.6085433959960938, 0.6216437220573425, 0.649772047996521, 0.599155068397522, 0.5858381986618042, 0.6107075214385986]\n",
            "y_train: [0.0, 1.0, 1.0, 1.0, 0.0, 1.0]\n",
            "————————————————————————————————————————\n",
            "Epoch  25 | Loss: 0.62028\n",
            "y_pred: [0.6132311820983887, 0.6269671320915222, 0.6549903154373169, 0.6045448780059814, 0.5908762216567993, 0.6158487796783447]\n",
            "y_train: [0.0, 1.0, 1.0, 1.0, 0.0, 1.0]\n",
            "————————————————————————————————————————\n",
            "Epoch  26 | Loss: 0.61882\n",
            "y_pred: [0.6176645159721375, 0.6320180892944336, 0.6599958539009094, 0.6096336841583252, 0.595624566078186, 0.6207602024078369]\n",
            "y_train: [0.0, 1.0, 1.0, 1.0, 0.0, 1.0]\n",
            "————————————————————————————————————————\n",
            "Epoch  27 | Loss: 0.61748\n",
            "y_pred: [0.6218406558036804, 0.6367946267127991, 0.6647881269454956, 0.6144184470176697, 0.6000798940658569, 0.6254397630691528]\n",
            "y_train: [0.0, 1.0, 1.0, 1.0, 0.0, 1.0]\n",
            "————————————————————————————————————————\n",
            "Epoch  28 | Loss: 0.61625\n",
            "y_pred: [0.6257584691047668, 0.6412964463233948, 0.6693673729896545, 0.6188978552818298, 0.6042401790618896, 0.6298866271972656]\n",
            "y_train: [0.0, 1.0, 1.0, 1.0, 0.0, 1.0]\n",
            "————————————————————————————————————————\n",
            "Epoch  29 | Loss: 0.61512\n",
            "y_pred: [0.6294181942939758, 0.6455245018005371, 0.6737348437309265, 0.6230725049972534, 0.6081053614616394, 0.634101152420044]\n",
            "y_train: [0.0, 1.0, 1.0, 1.0, 0.0, 1.0]\n",
            "————————————————————————————————————————\n",
            "Epoch  30 | Loss: 0.61406\n",
            "y_pred: [0.632821261882782, 0.6494812369346619, 0.6778926253318787, 0.6269445419311523, 0.6116769909858704, 0.6380850672721863]\n",
            "y_train: [0.0, 1.0, 1.0, 1.0, 0.0, 1.0]\n",
            "————————————————————————————————————————\n",
            "Epoch  31 | Loss: 0.61307\n",
            "y_pred: [0.6359704732894897, 0.6531703472137451, 0.6818438172340393, 0.6305176615715027, 0.6149579286575317, 0.6418408155441284]\n",
            "y_train: [0.0, 1.0, 1.0, 1.0, 0.0, 1.0]\n",
            "————————————————————————————————————————\n",
            "Epoch  32 | Loss: 0.61214\n",
            "y_pred: [0.6388697624206543, 0.6565966606140137, 0.6855922341346741, 0.6337969303131104, 0.617952823638916, 0.6453722715377808]\n",
            "y_train: [0.0, 1.0, 1.0, 1.0, 0.0, 1.0]\n",
            "————————————————————————————————————————\n",
            "Epoch  33 | Loss: 0.61126\n",
            "y_pred: [0.6415241360664368, 0.6597663164138794, 0.6891423463821411, 0.6367888450622559, 0.6206672191619873, 0.6486838459968567]\n",
            "y_train: [0.0, 1.0, 1.0, 1.0, 0.0, 1.0]\n",
            "————————————————————————————————————————\n",
            "Epoch  34 | Loss: 0.61041\n",
            "y_pred: [0.6439395546913147, 0.6626861095428467, 0.6924993395805359, 0.6395008563995361, 0.6231080889701843, 0.6517810821533203]\n",
            "y_train: [0.0, 1.0, 1.0, 1.0, 0.0, 1.0]\n",
            "————————————————————————————————————————\n",
            "Epoch  35 | Loss: 0.60960\n",
            "y_pred: [0.6461227536201477, 0.6653636693954468, 0.6956689357757568, 0.641941487789154, 0.6252834796905518, 0.654670238494873]\n",
            "y_train: [0.0, 1.0, 1.0, 1.0, 0.0, 1.0]\n",
            "————————————————————————————————————————\n",
            "Epoch  36 | Loss: 0.60880\n",
            "y_pred: [0.6480812430381775, 0.6678076386451721, 0.6986574530601501, 0.6441202163696289, 0.6272021532058716, 0.6573580503463745]\n",
            "y_train: [0.0, 1.0, 1.0, 1.0, 0.0, 1.0]\n",
            "————————————————————————————————————————\n",
            "Epoch  37 | Loss: 0.60803\n",
            "y_pred: [0.6498231291770935, 0.6700268983840942, 0.7014715075492859, 0.6460469365119934, 0.6288734078407288, 0.6598518490791321]\n",
            "y_train: [0.0, 1.0, 1.0, 1.0, 0.0, 1.0]\n",
            "————————————————————————————————————————\n",
            "Epoch  38 | Loss: 0.60726\n",
            "y_pred: [0.651357114315033, 0.6720308661460876, 0.7041181325912476, 0.6477323174476624, 0.6303076148033142, 0.6621594429016113]\n",
            "y_train: [0.0, 1.0, 1.0, 1.0, 0.0, 1.0]\n",
            "————————————————————————————————————————\n",
            "Epoch  39 | Loss: 0.60651\n",
            "y_pred: [0.6526920199394226, 0.6738293766975403, 0.7066045999526978, 0.6491872668266296, 0.6315150260925293, 0.6642890572547913]\n",
            "y_train: [0.0, 1.0, 1.0, 1.0, 0.0, 1.0]\n",
            "————————————————————————————————————————\n",
            "Epoch  40 | Loss: 0.60575\n",
            "y_pred: [0.6538371443748474, 0.6754325032234192, 0.7089384198188782, 0.6504231095314026, 0.6325065493583679, 0.6662490367889404]\n",
            "y_train: [0.0, 1.0, 1.0, 1.0, 0.0, 1.0]\n",
            "————————————————————————————————————————\n",
            "Epoch  41 | Loss: 0.60500\n",
            "y_pred: [0.6548020839691162, 0.6768503189086914, 0.7111272215843201, 0.6514511108398438, 0.6332932710647583, 0.6680479049682617]\n",
            "y_train: [0.0, 1.0, 1.0, 1.0, 0.0, 1.0]\n",
            "————————————————————————————————————————\n",
            "Epoch  42 | Loss: 0.60424\n",
            "y_pred: [0.6555961966514587, 0.6780930757522583, 0.7131787538528442, 0.6522828340530396, 0.6338862776756287, 0.6696944832801819]\n",
            "y_train: [0.0, 1.0, 1.0, 1.0, 0.0, 1.0]\n",
            "————————————————————————————————————————\n",
            "Epoch  43 | Loss: 0.60348\n",
            "y_pred: [0.6562293171882629, 0.6791709661483765, 0.7151008248329163, 0.6529299020767212, 0.634296715259552, 0.6711974740028381]\n",
            "y_train: [0.0, 1.0, 1.0, 1.0, 0.0, 1.0]\n",
            "————————————————————————————————————————\n",
            "Epoch  44 | Loss: 0.60272\n",
            "y_pred: [0.6567108631134033, 0.6800944209098816, 0.7169011235237122, 0.6534035801887512, 0.6345358490943909, 0.6725656986236572]\n",
            "y_train: [0.0, 1.0, 1.0, 1.0, 0.0, 1.0]\n",
            "————————————————————————————————————————\n",
            "Epoch  45 | Loss: 0.60195\n",
            "y_pred: [0.6570505499839783, 0.6808732748031616, 0.7185875773429871, 0.6537153124809265, 0.6346146464347839, 0.6738077998161316]\n",
            "y_train: [0.0, 1.0, 1.0, 1.0, 0.0, 1.0]\n",
            "————————————————————————————————————————\n",
            "Epoch  46 | Loss: 0.60118\n",
            "y_pred: [0.6572577357292175, 0.6815176010131836, 0.7201676964759827, 0.6538761854171753, 0.6345439553260803, 0.6749324798583984]\n",
            "y_train: [0.0, 1.0, 1.0, 1.0, 0.0, 1.0]\n",
            "————————————————————————————————————————\n",
            "Epoch  47 | Loss: 0.60040\n",
            "y_pred: [0.6573416590690613, 0.6820371747016907, 0.721649169921875, 0.6538971066474915, 0.6343345642089844, 0.6759481430053711]\n",
            "y_train: [0.0, 1.0, 1.0, 1.0, 0.0, 1.0]\n",
            "————————————————————————————————————————\n",
            "Epoch  48 | Loss: 0.59961\n",
            "y_pred: [0.6573115587234497, 0.6824414730072021, 0.7230393290519714, 0.6537887454032898, 0.6339969635009766, 0.6768631339073181]\n",
            "y_train: [0.0, 1.0, 1.0, 1.0, 0.0, 1.0]\n",
            "————————————————————————————————————————\n",
            "Epoch  49 | Loss: 0.59882\n",
            "y_pred: [0.6571762561798096, 0.682739794254303, 0.7243453860282898, 0.6535617113113403, 0.6335413455963135, 0.6776857376098633]\n",
            "y_train: [0.0, 1.0, 1.0, 1.0, 0.0, 1.0]\n",
            "————————————————————————————————————————\n",
            "Epoch  50 | Loss: 0.59802\n",
            "y_pred: [0.6569445729255676, 0.682941198348999, 0.7255746126174927, 0.6532257795333862, 0.6329776048660278, 0.6784236431121826]\n",
            "y_train: [0.0, 1.0, 1.0, 1.0, 0.0, 1.0]\n",
            "————————————————————————————————————————\n",
            "Epoch  51 | Loss: 0.59722\n",
            "y_pred: [0.6566247940063477, 0.6830545663833618, 0.7267336845397949, 0.652790904045105, 0.6323153972625732, 0.6790847778320312]\n",
            "y_train: [0.0, 1.0, 1.0, 1.0, 0.0, 1.0]\n",
            "————————————————————————————————————————\n",
            "Epoch  52 | Loss: 0.59642\n",
            "y_pred: [0.6562252044677734, 0.6830881237983704, 0.7278293371200562, 0.6522666215896606, 0.6315641403198242, 0.6796764731407166]\n",
            "y_train: [0.0, 1.0, 1.0, 1.0, 0.0, 1.0]\n",
            "————————————————————————————————————————\n",
            "Epoch  53 | Loss: 0.59561\n",
            "y_pred: [0.6557536721229553, 0.6830503344535828, 0.7288680672645569, 0.6516619324684143, 0.6307326555252075, 0.6802060008049011]\n",
            "y_train: [0.0, 1.0, 1.0, 1.0, 0.0, 1.0]\n",
            "————————————————————————————————————————\n",
            "Epoch  54 | Loss: 0.59480\n",
            "y_pred: [0.6552178263664246, 0.6829487681388855, 0.7298558354377747, 0.6509856581687927, 0.6298296451568604, 0.6806802153587341]\n",
            "y_train: [0.0, 1.0, 1.0, 1.0, 0.0, 1.0]\n",
            "————————————————————————————————————————\n",
            "Epoch  55 | Loss: 0.59399\n",
            "y_pred: [0.654624879360199, 0.6827911734580994, 0.7307987809181213, 0.6502461433410645, 0.6288634538650513, 0.6811057925224304]\n",
            "y_train: [0.0, 1.0, 1.0, 1.0, 0.0, 1.0]\n",
            "————————————————————————————————————————\n",
            "Epoch  56 | Loss: 0.59318\n",
            "y_pred: [0.6539818644523621, 0.6825846433639526, 0.7317023873329163, 0.6494514346122742, 0.6278418898582458, 0.681489109992981]\n",
            "y_train: [0.0, 1.0, 1.0, 1.0, 0.0, 1.0]\n",
            "————————————————————————————————————————\n",
            "Epoch  57 | Loss: 0.59236\n",
            "y_pred: [0.6532954573631287, 0.6823359131813049, 0.7325721383094788, 0.6486091017723083, 0.6267725229263306, 0.6818360090255737]\n",
            "y_train: [0.0, 1.0, 1.0, 1.0, 0.0, 1.0]\n",
            "————————————————————————————————————————\n",
            "Epoch  58 | Loss: 0.59155\n",
            "y_pred: [0.6525720953941345, 0.6820516586303711, 0.7334131002426147, 0.6477264165878296, 0.6256625056266785, 0.6821523904800415]\n",
            "y_train: [0.0, 1.0, 1.0, 1.0, 0.0, 1.0]\n",
            "————————————————————————————————————————\n",
            "Epoch  59 | Loss: 0.59073\n",
            "y_pred: [0.6518176794052124, 0.6817379593849182, 0.7342300415039062, 0.6468103528022766, 0.624518632888794, 0.6824435591697693]\n",
            "y_train: [0.0, 1.0, 1.0, 1.0, 0.0, 1.0]\n",
            "————————————————————————————————————————\n",
            "Epoch  60 | Loss: 0.58992\n",
            "y_pred: [0.6510379314422607, 0.6814005970954895, 0.7350274920463562, 0.6458672881126404, 0.6233473420143127, 0.6827146410942078]\n",
            "y_train: [0.0, 1.0, 1.0, 1.0, 0.0, 1.0]\n",
            "————————————————————————————————————————\n",
            "Epoch  61 | Loss: 0.58911\n",
            "y_pred: [0.6502381563186646, 0.6810450553894043, 0.7358096241950989, 0.644903302192688, 0.6221544742584229, 0.6829704642295837]\n",
            "y_train: [0.0, 1.0, 1.0, 1.0, 0.0, 1.0]\n",
            "————————————————————————————————————————\n",
            "Epoch  62 | Loss: 0.58830\n",
            "y_pred: [0.6494233012199402, 0.680676281452179, 0.7365805506706238, 0.6439239978790283, 0.6209457516670227, 0.6832153797149658]\n",
            "y_train: [0.0, 1.0, 1.0, 1.0, 0.0, 1.0]\n",
            "————————————————————————————————————————\n",
            "Epoch  63 | Loss: 0.58749\n",
            "y_pred: [0.6485981345176697, 0.6802991032600403, 0.7373437285423279, 0.6429347991943359, 0.6197264194488525, 0.6834535598754883]\n",
            "y_train: [0.0, 1.0, 1.0, 1.0, 0.0, 1.0]\n",
            "————————————————————————————————————————\n",
            "Epoch  64 | Loss: 0.58668\n",
            "y_pred: [0.6477669477462769, 0.6799179911613464, 0.7381026148796082, 0.6419404149055481, 0.6185012459754944, 0.6836888790130615]\n",
            "y_train: [0.0, 1.0, 1.0, 1.0, 0.0, 1.0]\n",
            "————————————————————————————————————————\n",
            "Epoch  65 | Loss: 0.58587\n",
            "y_pred: [0.6469337940216064, 0.6795368790626526, 0.7388602495193481, 0.6409456133842468, 0.6172747015953064, 0.683924674987793]\n",
            "y_train: [0.0, 1.0, 1.0, 1.0, 0.0, 1.0]\n",
            "————————————————————————————————————————\n",
            "Epoch  66 | Loss: 0.58507\n",
            "y_pred: [0.6461021900177002, 0.6791594624519348, 0.7396194338798523, 0.6399543881416321, 0.6160510182380676, 0.6841642260551453]\n",
            "y_train: [0.0, 1.0, 1.0, 1.0, 0.0, 1.0]\n",
            "————————————————————————————————————————\n",
            "Epoch  67 | Loss: 0.58427\n",
            "y_pred: [0.6452754735946655, 0.678788959980011, 0.7403826117515564, 0.6389704346656799, 0.614833652973175, 0.6844103932380676]\n",
            "y_train: [0.0, 1.0, 1.0, 1.0, 0.0, 1.0]\n",
            "————————————————————————————————————————\n",
            "Epoch  68 | Loss: 0.58347\n",
            "y_pred: [0.644456684589386, 0.678428590297699, 0.7411519885063171, 0.6379971504211426, 0.6136260628700256, 0.6846657991409302]\n",
            "y_train: [0.0, 1.0, 1.0, 1.0, 0.0, 1.0]\n",
            "————————————————————————————————————————\n",
            "Epoch  69 | Loss: 0.58268\n",
            "y_pred: [0.6436485052108765, 0.6780809164047241, 0.7419297099113464, 0.6370375752449036, 0.6124312281608582, 0.6849326491355896]\n",
            "y_train: [0.0, 1.0, 1.0, 1.0, 0.0, 1.0]\n",
            "————————————————————————————————————————\n",
            "Epoch  70 | Loss: 0.58188\n",
            "y_pred: [0.6428532600402832, 0.6777482628822327, 0.7427172660827637, 0.6360945105552673, 0.6112518310546875, 0.685213029384613]\n",
            "y_train: [0.0, 1.0, 1.0, 1.0, 0.0, 1.0]\n",
            "————————————————————————————————————————\n",
            "Epoch  71 | Loss: 0.58109\n",
            "y_pred: [0.6420732140541077, 0.6774327158927917, 0.7435162663459778, 0.635170042514801, 0.6100900769233704, 0.685508668422699]\n",
            "y_train: [0.0, 1.0, 1.0, 1.0, 0.0, 1.0]\n",
            "————————————————————————————————————————\n",
            "Epoch  72 | Loss: 0.58030\n",
            "y_pred: [0.6413098573684692, 0.6771361231803894, 0.744327962398529, 0.6342662572860718, 0.6089480519294739, 0.6858209371566772]\n",
            "y_train: [0.0, 1.0, 1.0, 1.0, 0.0, 1.0]\n",
            "————————————————————————————————————————\n",
            "Epoch  73 | Loss: 0.57951\n",
            "y_pred: [0.6405648589134216, 0.6768597960472107, 0.7451532483100891, 0.6333848834037781, 0.6078273057937622, 0.6861511468887329]\n",
            "y_train: [0.0, 1.0, 1.0, 1.0, 0.0, 1.0]\n",
            "————————————————————————————————————————\n",
            "Epoch  74 | Loss: 0.57873\n",
            "y_pred: [0.6398394703865051, 0.6766051054000854, 0.74599289894104, 0.632527232170105, 0.6067293286323547, 0.6865001916885376]\n",
            "y_train: [0.0, 1.0, 1.0, 1.0, 0.0, 1.0]\n",
            "————————————————————————————————————————\n",
            "Epoch  75 | Loss: 0.57794\n",
            "y_pred: [0.6391346454620361, 0.676372766494751, 0.7468475103378296, 0.6316944360733032, 0.6056550741195679, 0.6868689060211182]\n",
            "y_train: [0.0, 1.0, 1.0, 1.0, 0.0, 1.0]\n",
            "————————————————————————————————————————\n",
            "Epoch  76 | Loss: 0.57716\n",
            "y_pred: [0.638451099395752, 0.6761637330055237, 0.7477176189422607, 0.6308873891830444, 0.6046054363250732, 0.6872577667236328]\n",
            "y_train: [0.0, 1.0, 1.0, 1.0, 0.0, 1.0]\n",
            "————————————————————————————————————————\n",
            "Epoch  77 | Loss: 0.57638\n",
            "y_pred: [0.6377894282341003, 0.6759783029556274, 0.7486032843589783, 0.6301064491271973, 0.6035810708999634, 0.6876671314239502]\n",
            "y_train: [0.0, 1.0, 1.0, 1.0, 0.0, 1.0]\n",
            "————————————————————————————————————————\n",
            "Epoch  78 | Loss: 0.57560\n",
            "y_pred: [0.6371498703956604, 0.6758167147636414, 0.749504566192627, 0.6293520331382751, 0.6025820970535278, 0.6880971193313599]\n",
            "y_train: [0.0, 1.0, 1.0, 1.0, 0.0, 1.0]\n",
            "————————————————————————————————————————\n",
            "Epoch  79 | Loss: 0.57482\n",
            "y_pred: [0.6365325450897217, 0.6756791472434998, 0.7504213452339172, 0.6286243200302124, 0.6016088128089905, 0.688547670841217]\n",
            "y_train: [0.0, 1.0, 1.0, 1.0, 0.0, 1.0]\n",
            "————————————————————————————————————————\n",
            "Epoch  80 | Loss: 0.57405\n",
            "y_pred: [0.6359373927116394, 0.6755653023719788, 0.7513534426689148, 0.6279230713844299, 0.6006609797477722, 0.6890186667442322]\n",
            "y_train: [0.0, 1.0, 1.0, 1.0, 0.0, 1.0]\n",
            "————————————————————————————————————————\n",
            "Epoch  81 | Loss: 0.57327\n",
            "y_pred: [0.6353641748428345, 0.675475001335144, 0.7523003816604614, 0.6272481083869934, 0.5997384786605835, 0.6895096898078918]\n",
            "y_train: [0.0, 1.0, 1.0, 1.0, 0.0, 1.0]\n",
            "————————————————————————————————————————\n",
            "Epoch  82 | Loss: 0.57250\n",
            "y_pred: [0.6348125338554382, 0.6754077076911926, 0.7532618045806885, 0.6265988349914551, 0.5988407135009766, 0.6900203824043274]\n",
            "y_train: [0.0, 1.0, 1.0, 1.0, 0.0, 1.0]\n",
            "————————————————————————————————————————\n",
            "Epoch  83 | Loss: 0.57173\n",
            "y_pred: [0.6342818140983582, 0.6753628849983215, 0.7542370557785034, 0.6259747743606567, 0.5979672074317932, 0.6905500292778015]\n",
            "y_train: [0.0, 1.0, 1.0, 1.0, 0.0, 1.0]\n",
            "————————————————————————————————————————\n",
            "Epoch  84 | Loss: 0.57096\n",
            "y_pred: [0.633771538734436, 0.6753397583961487, 0.7552254796028137, 0.6253750324249268, 0.5971171259880066, 0.6910980939865112]\n",
            "y_train: [0.0, 1.0, 1.0, 1.0, 0.0, 1.0]\n",
            "————————————————————————————————————————\n",
            "Epoch  85 | Loss: 0.57019\n",
            "y_pred: [0.633280873298645, 0.6753376126289368, 0.7562263011932373, 0.6247988343238831, 0.5962896943092346, 0.6916636824607849]\n",
            "y_train: [0.0, 1.0, 1.0, 1.0, 0.0, 1.0]\n",
            "————————————————————————————————————————\n",
            "Epoch  86 | Loss: 0.56943\n",
            "y_pred: [0.6328088641166687, 0.6753553748130798, 0.7572388052940369, 0.6242451667785645, 0.5954840183258057, 0.6922460198402405]\n",
            "y_train: [0.0, 1.0, 1.0, 1.0, 0.0, 1.0]\n",
            "————————————————————————————————————————\n",
            "Epoch  87 | Loss: 0.56866\n",
            "y_pred: [0.6323547959327698, 0.675392210483551, 0.7582619786262512, 0.6237130165100098, 0.594698965549469, 0.6928441524505615]\n",
            "y_train: [0.0, 1.0, 1.0, 1.0, 0.0, 1.0]\n",
            "————————————————————————————————————————\n",
            "Epoch  88 | Loss: 0.56790\n",
            "y_pred: [0.6319175362586975, 0.6754469871520996, 0.7592951059341431, 0.6232011318206787, 0.5939334630966187, 0.6934571862220764]\n",
            "y_train: [0.0, 1.0, 1.0, 1.0, 0.0, 1.0]\n",
            "————————————————————————————————————————\n",
            "Epoch  89 | Loss: 0.56714\n",
            "y_pred: [0.6314960718154907, 0.6755186319351196, 0.7603371143341064, 0.6227083802223206, 0.5931863188743591, 0.6940840482711792]\n",
            "y_train: [0.0, 1.0, 1.0, 1.0, 0.0, 1.0]\n",
            "————————————————————————————————————————\n",
            "Epoch  90 | Loss: 0.56637\n",
            "y_pred: [0.6310893297195435, 0.6756060123443604, 0.7613872289657593, 0.6222335696220398, 0.5924564003944397, 0.6947237253189087]\n",
            "y_train: [0.0, 1.0, 1.0, 1.0, 0.0, 1.0]\n",
            "————————————————————————————————————————\n",
            "Epoch  91 | Loss: 0.56562\n",
            "y_pred: [0.6306962370872498, 0.675707995891571, 0.7624441981315613, 0.6217753887176514, 0.5917425155639648, 0.6953752636909485]\n",
            "y_train: [0.0, 1.0, 1.0, 1.0, 0.0, 1.0]\n",
            "————————————————————————————————————————\n",
            "Epoch  92 | Loss: 0.56486\n",
            "y_pred: [0.6303156018257141, 0.6758232712745667, 0.7635074853897095, 0.6213326454162598, 0.59104323387146, 0.6960375308990479]\n",
            "y_train: [0.0, 1.0, 1.0, 1.0, 0.0, 1.0]\n",
            "————————————————————————————————————————\n",
            "Epoch  93 | Loss: 0.56410\n",
            "y_pred: [0.6299463510513306, 0.6759508848190308, 0.7645758390426636, 0.6209037899971008, 0.5903574824333191, 0.6967094540596008]\n",
            "y_train: [0.0, 1.0, 1.0, 1.0, 0.0, 1.0]\n",
            "————————————————————————————————————————\n",
            "Epoch  94 | Loss: 0.56335\n",
            "y_pred: [0.6295872926712036, 0.6760895252227783, 0.765648365020752, 0.6204879283905029, 0.5896839499473572, 0.6973899602890015]\n",
            "y_train: [0.0, 1.0, 1.0, 1.0, 0.0, 1.0]\n",
            "————————————————————————————————————————\n",
            "Epoch  95 | Loss: 0.56260\n",
            "y_pred: [0.6292374134063721, 0.6762381196022034, 0.7667242288589478, 0.6200835704803467, 0.5890214443206787, 0.6980782151222229]\n",
            "y_train: [0.0, 1.0, 1.0, 1.0, 0.0, 1.0]\n",
            "————————————————————————————————————————\n",
            "Epoch  96 | Loss: 0.56184\n",
            "y_pred: [0.6288954615592957, 0.6763954758644104, 0.7678025364875793, 0.619689404964447, 0.5883685946464539, 0.6987730264663696]\n",
            "y_train: [0.0, 1.0, 1.0, 1.0, 0.0, 1.0]\n",
            "————————————————————————————————————————\n",
            "Epoch  97 | Loss: 0.56109\n",
            "y_pred: [0.6285606026649475, 0.6765604615211487, 0.7688823342323303, 0.6193044185638428, 0.587724506855011, 0.6994735598564148]\n",
            "y_train: [0.0, 1.0, 1.0, 1.0, 0.0, 1.0]\n",
            "————————————————————————————————————————\n",
            "Epoch  98 | Loss: 0.56035\n",
            "y_pred: [0.6282315850257874, 0.6767321228981018, 0.7699629664421082, 0.6189272403717041, 0.5870878100395203, 0.7001787424087524]\n",
            "y_train: [0.0, 1.0, 1.0, 1.0, 0.0, 1.0]\n",
            "————————————————————————————————————————\n",
            "Epoch  99 | Loss: 0.55960\n",
            "y_pred: [0.6279075145721436, 0.676909327507019, 0.7710435390472412, 0.6185569167137146, 0.5864574909210205, 0.7008877992630005]\n",
            "y_train: [0.0, 1.0, 1.0, 1.0, 0.0, 1.0]\n",
            "————————————————————————————————————————\n"
          ]
        }
      ]
    },
    {
      "cell_type": "code",
      "source": [
        "import torch\n",
        "import torch.nn as nn\n",
        "\n",
        "# Step 1: Define your dataset\n",
        "admit_tensor = torch.tensor([\n",
        "    [0, 380, 3.61, 3],\n",
        "    [1, 660, 3.67, 3],\n",
        "    [1, 800, 4.00, 1],\n",
        "    [1, 640, 3.19, 4],\n",
        "    [0, 520, 2.93, 4],\n",
        "    [1, 760, 3.00, 2],\n",
        "    [1, 560, 2.98, 1],\n",
        "    [0, 400, 3.08, 2],\n",
        "    [1, 540, 3.39, 3],\n",
        "], dtype=torch.float32)\n",
        "\n",
        "# Step 2: Split dataset\n",
        "x_train = admit_tensor[:6, 1:]\n",
        "y_train = admit_tensor[:6, 0].unsqueeze(1)\n",
        "\n",
        "# Normalize inputs\n",
        "x_train = x_train / torch.tensor([800.0, 4.0, 4.0])\n",
        "\n",
        "# Step 3: Define your neural network class\n",
        "class AdmissionNet(nn.Module):\n",
        "    def __init__(self):\n",
        "        super(AdmissionNet, self).__init__()\n",
        "        self.hidden = nn.Linear(3, 2)     # 3 input features → 2 hidden\n",
        "        self.output = nn.Linear(2, 1)     # 2 hidden → 1 output\n",
        "        self.sigmoid = nn.Sigmoid()\n",
        "\n",
        "    def forward(self, x):\n",
        "        x = self.hidden(x)\n",
        "        x = torch.relu(x)                 # non-linear activation\n",
        "        x = self.output(x)\n",
        "        return self.sigmoid(x)           # for binary classification\n",
        "\n",
        "# Step 4: Initialize model, loss, optimizer\n",
        "model = AdmissionNet()\n",
        "loss_fn = nn.BCELoss()\n",
        "optimizer = torch.optim.Adam(model.parameters(), lr=0.01)\n",
        "\n",
        "# Step 5: Training loop\n",
        "for epoch in range(100):\n",
        "    y_pred = model(x_train)\n",
        "    loss = loss_fn(y_pred, y_train)\n",
        "\n",
        "    print(f\"Epoch {epoch:3d} | Loss: {loss.item():.5f}\")\n",
        "    print(f\"y_pred: {y_pred.view(-1).tolist()}\")\n",
        "    print(f\"y_train: {y_train.view(-1).tolist()}\")\n",
        "    print(\"—\" * 40)\n",
        "\n",
        "    optimizer.zero_grad()\n",
        "    loss.backward()\n",
        "    optimizer.step()\n"
      ],
      "metadata": {
        "id": "d2OUOfCukfIR",
        "colab": {
          "base_uri": "https://localhost:8080/"
        },
        "outputId": "23251f21-f153-4dc4-cbea-561214b40832",
        "collapsed": true
      },
      "execution_count": null,
      "outputs": [
        {
          "output_type": "stream",
          "name": "stdout",
          "text": [
            "Epoch   0 | Loss: 0.95649\n",
            "y_pred: [0.3024493157863617, 0.2886611521244049, 0.2708805799484253, 0.2981260120868683, 0.30613595247268677, 0.28523749113082886]\n",
            "y_train: [0.0, 1.0, 1.0, 1.0, 0.0, 1.0]\n",
            "————————————————————————————————————————\n",
            "Epoch   1 | Loss: 0.94227\n",
            "y_pred: [0.30971094965934753, 0.2965034246444702, 0.2785847783088684, 0.3059682846069336, 0.3136039972305298, 0.2926725447177887]\n",
            "y_train: [0.0, 1.0, 1.0, 1.0, 0.0, 1.0]\n",
            "————————————————————————————————————————\n",
            "Epoch   2 | Loss: 0.92886\n",
            "y_pred: [0.3167840242385864, 0.30415764451026917, 0.2861424684524536, 0.3136006295681, 0.32086172699928284, 0.2999379634857178]\n",
            "y_train: [0.0, 1.0, 1.0, 1.0, 0.0, 1.0]\n",
            "————————————————————————————————————————\n",
            "Epoch   3 | Loss: 0.91623\n",
            "y_pred: [0.32364946603775024, 0.3116004765033722, 0.29353052377700806, 0.32100018858909607, 0.32788902521133423, 0.3070128858089447]\n",
            "y_train: [0.0, 1.0, 1.0, 1.0, 0.0, 1.0]\n",
            "————————————————————————————————————————\n",
            "Epoch   4 | Loss: 0.90435\n",
            "y_pred: [0.3302907645702362, 0.31881147623062134, 0.30072805285453796, 0.3281470537185669, 0.33466845750808716, 0.3138788342475891]\n",
            "y_train: [0.0, 1.0, 1.0, 1.0, 0.0, 1.0]\n",
            "————————————————————————————————————————\n",
            "Epoch   5 | Loss: 0.89322\n",
            "y_pred: [0.3366941511631012, 0.325773149728775, 0.3077167868614197, 0.33502480387687683, 0.341185986995697, 0.3205200433731079]\n",
            "y_train: [0.0, 1.0, 1.0, 1.0, 0.0, 1.0]\n",
            "————————————————————————————————————————\n",
            "Epoch   6 | Loss: 0.88280\n",
            "y_pred: [0.3428491950035095, 0.33247190713882446, 0.3144816756248474, 0.34162086248397827, 0.3474309742450714, 0.32692408561706543]\n",
            "y_train: [0.0, 1.0, 1.0, 1.0, 0.0, 1.0]\n",
            "————————————————————————————————————————\n",
            "Epoch   7 | Loss: 0.87306\n",
            "y_pred: [0.3487488925457001, 0.3388979434967041, 0.3210109770298004, 0.3479267656803131, 0.35339680314064026, 0.3330819010734558]\n",
            "y_train: [0.0, 1.0, 1.0, 1.0, 0.0, 1.0]\n",
            "————————————————————————————————————————\n",
            "Epoch   8 | Loss: 0.86397\n",
            "y_pred: [0.35439014434814453, 0.3450457751750946, 0.32729682326316833, 0.35393863916397095, 0.35908108949661255, 0.3389882743358612]\n",
            "y_train: [0.0, 1.0, 1.0, 1.0, 0.0, 1.0]\n",
            "————————————————————————————————————————\n",
            "Epoch   9 | Loss: 0.85549\n",
            "y_pred: [0.3597736656665802, 0.35091447830200195, 0.3333355188369751, 0.3596572279930115, 0.36448559165000916, 0.3446419835090637]\n",
            "y_train: [0.0, 1.0, 1.0, 1.0, 0.0, 1.0]\n",
            "————————————————————————————————————————\n",
            "Epoch  10 | Loss: 0.84756\n",
            "y_pred: [0.3649042844772339, 0.35650768876075745, 0.33912742137908936, 0.3650881350040436, 0.36951661109924316, 0.35004597902297974]\n",
            "y_train: [0.0, 1.0, 1.0, 1.0, 0.0, 1.0]\n",
            "————————————————————————————————————————\n",
            "Epoch  11 | Loss: 0.83965\n",
            "y_pred: [0.36981335282325745, 0.36185744404792786, 0.3446958661079407, 0.3702675998210907, 0.3725101947784424, 0.3552275002002716]\n",
            "y_train: [0.0, 1.0, 1.0, 1.0, 0.0, 1.0]\n",
            "————————————————————————————————————————\n",
            "Epoch  12 | Loss: 0.83224\n",
            "y_pred: [0.37450793385505676, 0.36697012186050415, 0.3500438630580902, 0.37520405650138855, 0.3753941059112549, 0.36019188165664673]\n",
            "y_train: [0.0, 1.0, 1.0, 1.0, 0.0, 1.0]\n",
            "————————————————————————————————————————\n",
            "Epoch  13 | Loss: 0.82582\n",
            "y_pred: [0.3782433271408081, 0.37185782194137573, 0.3551795482635498, 0.3782305121421814, 0.3781842291355133, 0.36494937539100647]\n",
            "y_train: [0.0, 1.0, 1.0, 1.0, 0.0, 1.0]\n",
            "————————————————————————————————————————\n",
            "Epoch  14 | Loss: 0.81966\n",
            "y_pred: [0.3809964656829834, 0.3765200078487396, 0.36010268330574036, 0.38096433877944946, 0.3808984160423279, 0.36949974298477173]\n",
            "y_train: [0.0, 1.0, 1.0, 1.0, 0.0, 1.0]\n",
            "————————————————————————————————————————\n",
            "Epoch  15 | Loss: 0.81384\n",
            "y_pred: [0.3836950361728668, 0.3809822201728821, 0.3648337125778198, 0.38363853096961975, 0.3835560083389282, 0.37386542558670044]\n",
            "y_train: [0.0, 1.0, 1.0, 1.0, 0.0, 1.0]\n",
            "————————————————————————————————————————\n",
            "Epoch  16 | Loss: 0.80833\n",
            "y_pred: [0.38635754585266113, 0.38527166843414307, 0.3693946301937103, 0.3862742483615875, 0.3861769735813141, 0.37807026505470276]\n",
            "y_train: [0.0, 1.0, 1.0, 1.0, 0.0, 1.0]\n",
            "————————————————————————————————————————\n",
            "Epoch  17 | Loss: 0.80332\n",
            "y_pred: [0.3890024721622467, 0.3888605237007141, 0.37380850315093994, 0.3888928294181824, 0.38878127932548523, 0.3821389079093933]\n",
            "y_train: [0.0, 1.0, 1.0, 1.0, 0.0, 1.0]\n",
            "————————————————————————————————————————\n",
            "Epoch  18 | Loss: 0.79893\n",
            "y_pred: [0.3916480243206024, 0.3914794623851776, 0.37806957960128784, 0.3915150761604309, 0.391388475894928, 0.3860659599304199]\n",
            "y_train: [0.0, 1.0, 1.0, 1.0, 0.0, 1.0]\n",
            "————————————————————————————————————————\n",
            "Epoch  19 | Loss: 0.79468\n",
            "y_pred: [0.3943115770816803, 0.3941212594509125, 0.3822089731693268, 0.3941608667373657, 0.39401715993881226, 0.38988304138183594]\n",
            "y_train: [0.0, 1.0, 1.0, 1.0, 0.0, 1.0]\n",
            "————————————————————————————————————————\n",
            "Epoch  20 | Loss: 0.79055\n",
            "y_pred: [0.3970091938972473, 0.39680376648902893, 0.38625529408454895, 0.39684852957725525, 0.3966846168041229, 0.3936191499233246]\n",
            "y_train: [0.0, 1.0, 1.0, 1.0, 0.0, 1.0]\n",
            "————————————————————————————————————————\n",
            "Epoch  21 | Loss: 0.78651\n",
            "y_pred: [0.399755597114563, 0.39954322576522827, 0.39023494720458984, 0.3995946943759918, 0.39940640330314636, 0.3973008990287781]\n",
            "y_train: [0.0, 1.0, 1.0, 1.0, 0.0, 1.0]\n",
            "————————————————————————————————————————\n",
            "Epoch  22 | Loss: 0.78263\n",
            "y_pred: [0.40256401896476746, 0.4023541212081909, 0.39417195320129395, 0.4024142324924469, 0.4021965265274048, 0.40070265531539917]\n",
            "y_train: [0.0, 1.0, 1.0, 1.0, 0.0, 1.0]\n",
            "————————————————————————————————————————\n",
            "Epoch  23 | Loss: 0.77907\n",
            "y_pred: [0.4054463505744934, 0.40524959564208984, 0.39806368947029114, 0.4053206145763397, 0.40506768226623535, 0.40344324707984924]\n",
            "y_train: [0.0, 1.0, 1.0, 1.0, 0.0, 1.0]\n",
            "————————————————————————————————————————\n",
            "Epoch  24 | Loss: 0.77550\n",
            "y_pred: [0.4084136188030243, 0.40824148058891296, 0.4019356667995453, 0.40832605957984924, 0.4080312252044678, 0.40627285838127136]\n",
            "y_train: [0.0, 1.0, 1.0, 1.0, 0.0, 1.0]\n",
            "————————————————————————————————————————\n",
            "Epoch  25 | Loss: 0.77191\n",
            "y_pred: [0.41147586703300476, 0.41134071350097656, 0.4058105945587158, 0.4114418029785156, 0.41109785437583923, 0.4092007875442505]\n",
            "y_train: [0.0, 1.0, 1.0, 1.0, 0.0, 1.0]\n",
            "————————————————————————————————————————\n",
            "Epoch  26 | Loss: 0.76828\n",
            "y_pred: [0.41464269161224365, 0.4145577847957611, 0.4097091555595398, 0.4146784245967865, 0.41427749395370483, 0.41223597526550293]\n",
            "y_train: [0.0, 1.0, 1.0, 1.0, 0.0, 1.0]\n",
            "————————————————————————————————————————\n",
            "Epoch  27 | Loss: 0.76461\n",
            "y_pred: [0.41792336106300354, 0.41790255904197693, 0.4136505424976349, 0.4180462956428528, 0.41757985949516296, 0.415386825799942]\n",
            "y_train: [0.0, 1.0, 1.0, 1.0, 0.0, 1.0]\n",
            "————————————————————————————————————————\n",
            "Epoch  28 | Loss: 0.76088\n",
            "y_pred: [0.421327143907547, 0.4213851988315582, 0.41765260696411133, 0.42155563831329346, 0.42101454734802246, 0.418661892414093]\n",
            "y_train: [0.0, 1.0, 1.0, 1.0, 0.0, 1.0]\n",
            "————————————————————————————————————————\n",
            "Epoch  29 | Loss: 0.75710\n",
            "y_pred: [0.42486336827278137, 0.42501577734947205, 0.4217326045036316, 0.4252169132232666, 0.42459142208099365, 0.42206981778144836]\n",
            "y_train: [0.0, 1.0, 1.0, 1.0, 0.0, 1.0]\n",
            "————————————————————————————————————————\n",
            "Epoch  30 | Loss: 0.75324\n",
            "y_pred: [0.4285416305065155, 0.42880481481552124, 0.4259069859981537, 0.42904096841812134, 0.4283205270767212, 0.42561960220336914]\n",
            "y_train: [0.0, 1.0, 1.0, 1.0, 0.0, 1.0]\n",
            "————————————————————————————————————————\n",
            "Epoch  31 | Loss: 0.74931\n",
            "y_pred: [0.4323718547821045, 0.43276309967041016, 0.43019190430641174, 0.43303874135017395, 0.43221229314804077, 0.42932066321372986]\n",
            "y_train: [0.0, 1.0, 1.0, 1.0, 0.0, 1.0]\n",
            "————————————————————————————————————————\n",
            "Epoch  32 | Loss: 0.74535\n",
            "y_pred: [0.43636399507522583, 0.4369017481803894, 0.4344705641269684, 0.4372217357158661, 0.4362773299217224, 0.43318259716033936]\n",
            "y_train: [0.0, 1.0, 1.0, 1.0, 0.0, 1.0]\n",
            "————————————————————————————————————————\n",
            "Epoch  33 | Loss: 0.74143\n",
            "y_pred: [0.4405282735824585, 0.44123217463493347, 0.4385964572429657, 0.4416014850139618, 0.4405265152454376, 0.4372154474258423]\n",
            "y_train: [0.0, 1.0, 1.0, 1.0, 0.0, 1.0]\n",
            "————————————————————————————————————————\n",
            "Epoch  34 | Loss: 0.73740\n",
            "y_pred: [0.44487494230270386, 0.4457656145095825, 0.44290947914123535, 0.4461897313594818, 0.4449707865715027, 0.44142937660217285]\n",
            "y_train: [0.0, 1.0, 1.0, 1.0, 0.0, 1.0]\n",
            "————————————————————————————————————————\n",
            "Epoch  35 | Loss: 0.73327\n",
            "y_pred: [0.44941404461860657, 0.45051339268684387, 0.4474201500415802, 0.450997918844223, 0.4496208131313324, 0.4458343982696533]\n",
            "y_train: [0.0, 1.0, 1.0, 1.0, 0.0, 1.0]\n",
            "————————————————————————————————————————\n",
            "Epoch  36 | Loss: 0.72905\n",
            "y_pred: [0.4541550576686859, 0.45548632740974426, 0.4521385431289673, 0.45603713393211365, 0.4544869363307953, 0.4504404366016388]\n",
            "y_train: [0.0, 1.0, 1.0, 1.0, 0.0, 1.0]\n",
            "————————————————————————————————————————\n",
            "Epoch  37 | Loss: 0.72474\n",
            "y_pred: [0.4591069221496582, 0.46069443225860596, 0.45707425475120544, 0.46131768822669983, 0.4595787525177002, 0.45525673031806946]\n",
            "y_train: [0.0, 1.0, 1.0, 1.0, 0.0, 1.0]\n",
            "————————————————————————————————————————\n",
            "Epoch  38 | Loss: 0.72034\n",
            "y_pred: [0.46427756547927856, 0.46614688634872437, 0.46223604679107666, 0.4668487310409546, 0.4649048447608948, 0.4602917432785034]\n",
            "y_train: [0.0, 1.0, 1.0, 1.0, 0.0, 1.0]\n",
            "————————————————————————————————————————\n",
            "Epoch  39 | Loss: 0.71586\n",
            "y_pred: [0.46967384219169617, 0.47185149788856506, 0.4676317274570465, 0.4726383686065674, 0.4704727530479431, 0.46555307507514954]\n",
            "y_train: [0.0, 1.0, 1.0, 1.0, 0.0, 1.0]\n",
            "————————————————————————————————————————\n",
            "Epoch  40 | Loss: 0.71131\n",
            "y_pred: [0.4753010869026184, 0.4778146743774414, 0.4732675552368164, 0.4786928594112396, 0.47628816962242126, 0.4710468649864197]\n",
            "y_train: [0.0, 1.0, 1.0, 1.0, 0.0, 1.0]\n",
            "————————————————————————————————————————\n",
            "Epoch  41 | Loss: 0.70671\n",
            "y_pred: [0.48116305470466614, 0.48404085636138916, 0.4791485667228699, 0.48501673340797424, 0.48235538601875305, 0.47677797079086304]\n",
            "y_train: [0.0, 1.0, 1.0, 1.0, 0.0, 1.0]\n",
            "————————————————————————————————————————\n",
            "Epoch  42 | Loss: 0.70206\n",
            "y_pred: [0.4872615933418274, 0.49053236842155457, 0.48527780175209045, 0.49161213636398315, 0.48867642879486084, 0.48274922370910645]\n",
            "y_train: [0.0, 1.0, 1.0, 1.0, 0.0, 1.0]\n",
            "————————————————————————————————————————\n",
            "Epoch  43 | Loss: 0.69739\n",
            "y_pred: [0.4935964345932007, 0.49728941917419434, 0.49165627360343933, 0.49847888946533203, 0.4952510595321655, 0.48896172642707825]\n",
            "y_train: [0.0, 1.0, 1.0, 1.0, 0.0, 1.0]\n",
            "————————————————————————————————————————\n",
            "Epoch  44 | Loss: 0.69271\n",
            "y_pred: [0.500164806842804, 0.504309356212616, 0.49828287959098816, 0.5056138634681702, 0.5020763278007507, 0.49541419744491577]\n",
            "y_train: [0.0, 1.0, 1.0, 1.0, 0.0, 1.0]\n",
            "————————————————————————————————————————\n",
            "Epoch  45 | Loss: 0.68805\n",
            "y_pred: [0.5069615840911865, 0.5115866661071777, 0.5051538944244385, 0.5130109190940857, 0.5091465711593628, 0.5021029114723206]\n",
            "y_train: [0.0, 1.0, 1.0, 1.0, 0.0, 1.0]\n",
            "————————————————————————————————————————\n",
            "Epoch  46 | Loss: 0.68343\n",
            "y_pred: [0.5139785408973694, 0.5191127061843872, 0.5122630596160889, 0.5206606984138489, 0.5164528489112854, 0.5090214014053345]\n",
            "y_train: [0.0, 1.0, 1.0, 1.0, 0.0, 1.0]\n",
            "————————————————————————————————————————\n",
            "Epoch  47 | Loss: 0.67887\n",
            "y_pred: [0.5212047100067139, 0.5268754363059998, 0.5196009874343872, 0.5285500884056091, 0.5239830613136292, 0.5161604285240173]\n",
            "y_train: [0.0, 1.0, 1.0, 1.0, 0.0, 1.0]\n",
            "————————————————————————————————————————\n",
            "Epoch  48 | Loss: 0.67440\n",
            "y_pred: [0.52862548828125, 0.5348590612411499, 0.5271553993225098, 0.5366621017456055, 0.5317211747169495, 0.5235073566436768]\n",
            "y_train: [0.0, 1.0, 1.0, 1.0, 0.0, 1.0]\n",
            "————————————————————————————————————————\n",
            "Epoch  49 | Loss: 0.67004\n",
            "y_pred: [0.5362231135368347, 0.5430441498756409, 0.5349106788635254, 0.5449756383895874, 0.53964763879776, 0.5310465693473816]\n",
            "y_train: [0.0, 1.0, 1.0, 1.0, 0.0, 1.0]\n",
            "————————————————————————————————————————\n",
            "Epoch  50 | Loss: 0.66583\n",
            "y_pred: [0.5439758896827698, 0.551406979560852, 0.542847752571106, 0.5534653067588806, 0.5477383732795715, 0.5387586951255798]\n",
            "y_train: [0.0, 1.0, 1.0, 1.0, 0.0, 1.0]\n",
            "————————————————————————————————————————\n",
            "Epoch  51 | Loss: 0.66178\n",
            "y_pred: [0.5518584847450256, 0.5599197149276733, 0.5509440302848816, 0.5621012449264526, 0.5559653639793396, 0.546620786190033]\n",
            "y_train: [0.0, 1.0, 1.0, 1.0, 0.0, 1.0]\n",
            "————————————————————————————————————————\n",
            "Epoch  52 | Loss: 0.65792\n",
            "y_pred: [0.5598414540290833, 0.5685502290725708, 0.5591732859611511, 0.5708488821983337, 0.5642961859703064, 0.554606020450592]\n",
            "y_train: [0.0, 1.0, 1.0, 1.0, 0.0, 1.0]\n",
            "————————————————————————————————————————\n",
            "Epoch  53 | Loss: 0.65427\n",
            "y_pred: [0.5678914785385132, 0.5772621035575867, 0.5675056576728821, 0.5796690583229065, 0.5726937055587769, 0.5626839399337769]\n",
            "y_train: [0.0, 1.0, 1.0, 1.0, 0.0, 1.0]\n",
            "————————————————————————————————————————\n",
            "Epoch  54 | Loss: 0.65086\n",
            "y_pred: [0.5759713649749756, 0.5860148668289185, 0.5759077668190002, 0.5885184407234192, 0.5811168551445007, 0.5708202123641968]\n",
            "y_train: [0.0, 1.0, 1.0, 1.0, 0.0, 1.0]\n",
            "————————————————————————————————————————\n",
            "Epoch  55 | Loss: 0.64770\n",
            "y_pred: [0.5840399861335754, 0.5947639346122742, 0.5843429565429688, 0.5973491072654724, 0.5895200967788696, 0.5789769291877747]\n",
            "y_train: [0.0, 1.0, 1.0, 1.0, 0.0, 1.0]\n",
            "————————————————————————————————————————\n",
            "Epoch  56 | Loss: 0.64480\n",
            "y_pred: [0.5920528769493103, 0.6034612059593201, 0.5927712321281433, 0.6061095595359802, 0.5978542566299438, 0.5871129035949707]\n",
            "y_train: [0.0, 1.0, 1.0, 1.0, 0.0, 1.0]\n",
            "————————————————————————————————————————\n",
            "Epoch  57 | Loss: 0.64217\n",
            "y_pred: [0.5999628305435181, 0.6120558977127075, 0.6011502146720886, 0.6147453784942627, 0.6060672402381897, 0.5951840877532959]\n",
            "y_train: [0.0, 1.0, 1.0, 1.0, 0.0, 1.0]\n",
            "————————————————————————————————————————\n",
            "Epoch  58 | Loss: 0.63982\n",
            "y_pred: [0.6077203154563904, 0.620495080947876, 0.6094353795051575, 0.6232001185417175, 0.614104688167572, 0.6031444072723389]\n",
            "y_train: [0.0, 1.0, 1.0, 1.0, 0.0, 1.0]\n",
            "————————————————————————————————————————\n",
            "Epoch  59 | Loss: 0.63773\n",
            "y_pred: [0.6152749061584473, 0.628724992275238, 0.6175809502601624, 0.6314165592193604, 0.621911346912384, 0.6109462380409241]\n",
            "y_train: [0.0, 1.0, 1.0, 1.0, 0.0, 1.0]\n",
            "————————————————————————————————————————\n",
            "Epoch  60 | Loss: 0.63590\n",
            "y_pred: [0.6225763559341431, 0.6366924047470093, 0.6255407929420471, 0.6393381953239441, 0.629432737827301, 0.6185421347618103]\n",
            "y_train: [0.0, 1.0, 1.0, 1.0, 0.0, 1.0]\n",
            "————————————————————————————————————————\n",
            "Epoch  61 | Loss: 0.63432\n",
            "y_pred: [0.6295759677886963, 0.6443459987640381, 0.6332695484161377, 0.6469114422798157, 0.6366163492202759, 0.6258854866027832]\n",
            "y_train: [0.0, 1.0, 1.0, 1.0, 0.0, 1.0]\n",
            "————————————————————————————————————————\n",
            "Epoch  62 | Loss: 0.63296\n",
            "y_pred: [0.6362281441688538, 0.6516381502151489, 0.6407238245010376, 0.6540866494178772, 0.6434137225151062, 0.6329321265220642]\n",
            "y_train: [0.0, 1.0, 1.0, 1.0, 0.0, 1.0]\n",
            "————————————————————————————————————————\n",
            "Epoch  63 | Loss: 0.63179\n",
            "y_pred: [0.6424919962882996, 0.6585260629653931, 0.6478629112243652, 0.6608203053474426, 0.6497821807861328, 0.639641523361206]\n",
            "y_train: [0.0, 1.0, 1.0, 1.0, 0.0, 1.0]\n",
            "————————————————————————————————————————\n",
            "Epoch  64 | Loss: 0.63080\n",
            "y_pred: [0.6483321785926819, 0.6649734377861023, 0.6546503305435181, 0.6670759320259094, 0.6556858420372009, 0.645977795124054]\n",
            "y_train: [0.0, 1.0, 1.0, 1.0, 0.0, 1.0]\n",
            "————————————————————————————————————————\n",
            "Epoch  65 | Loss: 0.62994\n",
            "y_pred: [0.6537202596664429, 0.6709507703781128, 0.6610544323921204, 0.6728253364562988, 0.6610966920852661, 0.6519109606742859]\n",
            "y_train: [0.0, 1.0, 1.0, 1.0, 0.0, 1.0]\n",
            "————————————————————————————————————————\n",
            "Epoch  66 | Loss: 0.62920\n",
            "y_pred: [0.6586347222328186, 0.6764363050460815, 0.66704922914505, 0.6780484318733215, 0.6659944653511047, 0.6574171185493469]\n",
            "y_train: [0.0, 1.0, 1.0, 1.0, 0.0, 1.0]\n",
            "————————————————————————————————————————\n",
            "Epoch  67 | Loss: 0.62854\n",
            "y_pred: [0.663061261177063, 0.681415855884552, 0.6726148724555969, 0.6827336549758911, 0.6703675985336304, 0.6624789834022522]\n",
            "y_train: [0.0, 1.0, 1.0, 1.0, 0.0, 1.0]\n",
            "————————————————————————————————————————\n",
            "Epoch  68 | Loss: 0.62793\n",
            "y_pred: [0.6669928431510925, 0.6858824491500854, 0.6777375340461731, 0.6868771314620972, 0.6742116808891296, 0.6670858263969421]\n",
            "y_train: [0.0, 1.0, 1.0, 1.0, 0.0, 1.0]\n",
            "————————————————————————————————————————\n",
            "Epoch  69 | Loss: 0.62736\n",
            "y_pred: [0.6704288125038147, 0.6898362040519714, 0.6824097633361816, 0.6904820203781128, 0.6775296330451965, 0.6712332963943481]\n",
            "y_train: [0.0, 1.0, 1.0, 1.0, 0.0, 1.0]\n",
            "————————————————————————————————————————\n",
            "Epoch  70 | Loss: 0.62679\n",
            "y_pred: [0.6733747124671936, 0.6932832598686218, 0.686630368232727, 0.6935579776763916, 0.6803302764892578, 0.6749230623245239]\n",
            "y_train: [0.0, 1.0, 1.0, 1.0, 0.0, 1.0]\n",
            "————————————————————————————————————————\n",
            "Epoch  71 | Loss: 0.62623\n",
            "y_pred: [0.6758415699005127, 0.696235716342926, 0.690403938293457, 0.6961201429367065, 0.682628333568573, 0.6781623363494873]\n",
            "y_train: [0.0, 1.0, 1.0, 1.0, 0.0, 1.0]\n",
            "————————————————————————————————————————\n",
            "Epoch  72 | Loss: 0.62564\n",
            "y_pred: [0.6778453588485718, 0.6987104415893555, 0.6937402486801147, 0.6981883645057678, 0.684442937374115, 0.6809635162353516]\n",
            "y_train: [0.0, 1.0, 1.0, 1.0, 0.0, 1.0]\n",
            "————————————————————————————————————————\n",
            "Epoch  73 | Loss: 0.62502\n",
            "y_pred: [0.6794061660766602, 0.7007286548614502, 0.6966543197631836, 0.6997866630554199, 0.6857973337173462, 0.6833435297012329]\n",
            "y_train: [0.0, 1.0, 1.0, 1.0, 0.0, 1.0]\n",
            "————————————————————————————————————————\n",
            "Epoch  74 | Loss: 0.62437\n",
            "y_pred: [0.6805477142333984, 0.7023153305053711, 0.6991652250289917, 0.70094233751297, 0.6867181658744812, 0.6853232383728027]\n",
            "y_train: [0.0, 1.0, 1.0, 1.0, 0.0, 1.0]\n",
            "————————————————————————————————————————\n",
            "Epoch  75 | Loss: 0.62369\n",
            "y_pred: [0.6812968254089355, 0.7034983038902283, 0.7012957334518433, 0.7016853094100952, 0.6872346997261047, 0.6869266629219055]\n",
            "y_train: [0.0, 1.0, 1.0, 1.0, 0.0, 1.0]\n",
            "————————————————————————————————————————\n",
            "Epoch  76 | Loss: 0.62296\n",
            "y_pred: [0.6816826462745667, 0.7043079137802124, 0.7030720114707947, 0.7020478248596191, 0.687378466129303, 0.688180685043335]\n",
            "y_train: [0.0, 1.0, 1.0, 1.0, 0.0, 1.0]\n",
            "————————————————————————————————————————\n",
            "Epoch  77 | Loss: 0.62220\n",
            "y_pred: [0.681736171245575, 0.7047763466835022, 0.7045223116874695, 0.7020635604858398, 0.6871824264526367, 0.6891144514083862]\n",
            "y_train: [0.0, 1.0, 1.0, 1.0, 0.0, 1.0]\n",
            "————————————————————————————————————————\n",
            "Epoch  78 | Loss: 0.62141\n",
            "y_pred: [0.6814895868301392, 0.7049369812011719, 0.7056768536567688, 0.7017673254013062, 0.6866803765296936, 0.6897583603858948]\n",
            "y_train: [0.0, 1.0, 1.0, 1.0, 0.0, 1.0]\n",
            "————————————————————————————————————————\n",
            "Epoch  79 | Loss: 0.62059\n",
            "y_pred: [0.6809759736061096, 0.7048239707946777, 0.7065670490264893, 0.7011942267417908, 0.6859071254730225, 0.6901440620422363]\n",
            "y_train: [0.0, 1.0, 1.0, 1.0, 0.0, 1.0]\n",
            "————————————————————————————————————————\n",
            "Epoch  80 | Loss: 0.61975\n",
            "y_pred: [0.680228590965271, 0.7044719457626343, 0.7072251439094543, 0.7003796100616455, 0.6848971247673035, 0.6903036236763]\n",
            "y_train: [0.0, 1.0, 1.0, 1.0, 0.0, 1.0]\n",
            "————————————————————————————————————————\n",
            "Epoch  81 | Loss: 0.61889\n",
            "y_pred: [0.6792803406715393, 0.7039149403572083, 0.7076833248138428, 0.6993586421012878, 0.6836845278739929, 0.6902690529823303]\n",
            "y_train: [0.0, 1.0, 1.0, 1.0, 0.0, 1.0]\n",
            "————————————————————————————————————————\n",
            "Epoch  82 | Loss: 0.61802\n",
            "y_pred: [0.6781637072563171, 0.7031866908073425, 0.707973837852478, 0.698165237903595, 0.682302713394165, 0.6900720000267029]\n",
            "y_train: [0.0, 1.0, 1.0, 1.0, 0.0, 1.0]\n",
            "————————————————————————————————————————\n",
            "Epoch  83 | Loss: 0.61714\n",
            "y_pred: [0.6769101023674011, 0.702319860458374, 0.708128035068512, 0.6968326568603516, 0.6807839274406433, 0.6897433400154114]\n",
            "y_train: [0.0, 1.0, 1.0, 1.0, 0.0, 1.0]\n",
            "————————————————————————————————————————\n",
            "Epoch  84 | Loss: 0.61626\n",
            "y_pred: [0.6755494475364685, 0.7013455629348755, 0.7081760764122009, 0.695392370223999, 0.6791588664054871, 0.6893126964569092]\n",
            "y_train: [0.0, 1.0, 1.0, 1.0, 0.0, 1.0]\n",
            "————————————————————————————————————————\n",
            "Epoch  85 | Loss: 0.61539\n",
            "y_pred: [0.6741102933883667, 0.700293779373169, 0.7081472277641296, 0.6938744187355042, 0.6774566769599915, 0.6888083815574646]\n",
            "y_train: [0.0, 1.0, 1.0, 1.0, 0.0, 1.0]\n",
            "————————————————————————————————————————\n",
            "Epoch  86 | Loss: 0.61452\n",
            "y_pred: [0.6726189851760864, 0.6991922855377197, 0.7080686688423157, 0.6923065781593323, 0.675704300403595, 0.6882569193840027]\n",
            "y_train: [0.0, 1.0, 1.0, 1.0, 0.0, 1.0]\n",
            "————————————————————————————————————————\n",
            "Epoch  87 | Loss: 0.61365\n",
            "y_pred: [0.6711000800132751, 0.6980668306350708, 0.7079659700393677, 0.6907146573066711, 0.673926591873169, 0.6876829862594604]\n",
            "y_train: [0.0, 1.0, 1.0, 1.0, 0.0, 1.0]\n",
            "————————————————————————————————————————\n",
            "Epoch  88 | Loss: 0.61279\n",
            "y_pred: [0.6695759296417236, 0.6969409584999084, 0.7078626155853271, 0.6891221404075623, 0.6721461415290833, 0.6871091723442078]\n",
            "y_train: [0.0, 1.0, 1.0, 1.0, 0.0, 1.0]\n",
            "————————————————————————————————————————\n",
            "Epoch  89 | Loss: 0.61193\n",
            "y_pred: [0.6680663824081421, 0.6958360075950623, 0.7077799439430237, 0.6875500082969666, 0.670383095741272, 0.6865559220314026]\n",
            "y_train: [0.0, 1.0, 1.0, 1.0, 0.0, 1.0]\n",
            "————————————————————————————————————————\n",
            "Epoch  90 | Loss: 0.61108\n",
            "y_pred: [0.6665891408920288, 0.694770872592926, 0.7077372074127197, 0.6860169172286987, 0.6686552166938782, 0.6860414743423462]\n",
            "y_train: [0.0, 1.0, 1.0, 1.0, 0.0, 1.0]\n",
            "————————————————————————————————————————\n",
            "Epoch  91 | Loss: 0.61024\n",
            "y_pred: [0.6651594638824463, 0.6937618851661682, 0.7077510356903076, 0.6845389008522034, 0.6669778227806091, 0.6855819225311279]\n",
            "y_train: [0.0, 1.0, 1.0, 1.0, 0.0, 1.0]\n",
            "————————————————————————————————————————\n",
            "Epoch  92 | Loss: 0.60940\n",
            "y_pred: [0.663790225982666, 0.6928231716156006, 0.7078362107276917, 0.683129608631134, 0.6653637290000916, 0.685190737247467]\n",
            "y_train: [0.0, 1.0, 1.0, 1.0, 0.0, 1.0]\n",
            "————————————————————————————————————————\n",
            "Epoch  93 | Loss: 0.60856\n",
            "y_pred: [0.6624919772148132, 0.6919662952423096, 0.7080048322677612, 0.6818001866340637, 0.6638235449790955, 0.6848795413970947]\n",
            "y_train: [0.0, 1.0, 1.0, 1.0, 0.0, 1.0]\n",
            "————————————————————————————————————————\n",
            "Epoch  94 | Loss: 0.60771\n",
            "y_pred: [0.6612732410430908, 0.6912007331848145, 0.7082669734954834, 0.6805595755577087, 0.6623654365539551, 0.6846576929092407]\n",
            "y_train: [0.0, 1.0, 1.0, 1.0, 0.0, 1.0]\n",
            "————————————————————————————————————————\n",
            "Epoch  95 | Loss: 0.60687\n",
            "y_pred: [0.6601401567459106, 0.6905335187911987, 0.7086306214332581, 0.6794143319129944, 0.6609955430030823, 0.6845321655273438]\n",
            "y_train: [0.0, 1.0, 1.0, 1.0, 0.0, 1.0]\n",
            "————————————————————————————————————————\n",
            "Epoch  96 | Loss: 0.60602\n",
            "y_pred: [0.659096896648407, 0.6899696588516235, 0.7091014981269836, 0.6783689856529236, 0.6597177982330322, 0.6845084428787231]\n",
            "y_train: [0.0, 1.0, 1.0, 1.0, 0.0, 1.0]\n",
            "————————————————————————————————————————\n",
            "Epoch  97 | Loss: 0.60516\n",
            "y_pred: [0.6581460237503052, 0.6895121335983276, 0.7096834778785706, 0.6774261593818665, 0.6585343480110168, 0.6845898628234863]\n",
            "y_train: [0.0, 1.0, 1.0, 1.0, 0.0, 1.0]\n",
            "————————————————————————————————————————\n",
            "Epoch  98 | Loss: 0.60430\n",
            "y_pred: [0.6572881937026978, 0.6891623139381409, 0.7103786468505859, 0.6765864491462708, 0.6574455499649048, 0.6847779750823975]\n",
            "y_train: [0.0, 1.0, 1.0, 1.0, 0.0, 1.0]\n",
            "————————————————————————————————————————\n",
            "Epoch  99 | Loss: 0.60342\n",
            "y_pred: [0.6565223336219788, 0.6889197826385498, 0.7111874222755432, 0.6758489608764648, 0.6564501523971558, 0.6850727796554565]\n",
            "y_train: [0.0, 1.0, 1.0, 1.0, 0.0, 1.0]\n",
            "————————————————————————————————————————\n"
          ]
        }
      ]
    },
    {
      "cell_type": "code",
      "source": [
        "#Chapter 3"
      ],
      "metadata": {
        "id": "TOaJez222fHz"
      },
      "execution_count": null,
      "outputs": []
    },
    {
      "cell_type": "code",
      "source": [
        "import torch\n",
        "import torch.nn as nn\n",
        "\n",
        "# Define the loss function\n",
        "loss_fn = nn.MSELoss()\n",
        "\n",
        "# Create input and target tensors with gradients enabled\n",
        "input = torch.randn(2, 6, requires_grad=True)\n",
        "target = torch.randn(2, 6)\n",
        "\n",
        "print(input)\n",
        "print(target)\n",
        "# Compute the loss\n",
        "output = loss_fn(input, target)\n",
        "\n",
        "# Backpropagate\n",
        "output.backward()\n",
        "\n",
        "# Check the gradient\n",
        "print(input.grad)\n"
      ],
      "metadata": {
        "id": "wh72kjy92faa",
        "colab": {
          "base_uri": "https://localhost:8080/"
        },
        "outputId": "58c6ce59-3ba4-483b-e3f6-b3461e0c60d2"
      },
      "execution_count": null,
      "outputs": [
        {
          "output_type": "stream",
          "name": "stdout",
          "text": [
            "tensor([[-1.5153, -0.2535, -0.6439, -0.3048, -1.4947, -0.8873],\n",
            "        [-1.7952, -1.6142,  0.8743,  1.5148, -0.9031, -1.1574]],\n",
            "       requires_grad=True)\n",
            "tensor([[ 1.2594,  1.0329,  0.7643, -1.2275,  0.3776, -0.3305],\n",
            "        [-0.9835, -1.5036, -0.3360,  0.2332,  0.2048, -0.2450]])\n",
            "tensor([[-0.4625, -0.2144, -0.2347,  0.1538, -0.3121, -0.0928],\n",
            "        [-0.1353, -0.0184,  0.2017,  0.2136, -0.1846, -0.1521]])\n"
          ]
        }
      ]
    },
    {
      "cell_type": "code",
      "source": [
        "!git clone https://github.com/ardamavi/Dog-Cat-Classifier.git #get training dataset of cats and dogs from github"
      ],
      "metadata": {
        "colab": {
          "base_uri": "https://localhost:8080/"
        },
        "id": "QHQOeqcc8M6g",
        "outputId": "d686b0e2-f210-4a09-9d6d-0fabd1b803c6"
      },
      "execution_count": null,
      "outputs": [
        {
          "output_type": "stream",
          "name": "stdout",
          "text": [
            "Cloning into 'Dog-Cat-Classifier'...\n",
            "remote: Enumerating objects: 1654, done.\u001b[K\n",
            "remote: Total 1654 (delta 0), reused 0 (delta 0), pack-reused 1654 (from 1)\u001b[K\n",
            "Receiving objects: 100% (1654/1654), 34.83 MiB | 30.99 MiB/s, done.\n",
            "Resolving deltas: 100% (147/147), done.\n"
          ]
        }
      ]
    },
    {
      "cell_type": "code",
      "source": [
        "import glob\n",
        "\n",
        "# Correct path (with dash)\n",
        "dog_files = glob.glob('Dog-Cat-Classifier/Data/Train_Data/dog/*.jpg')\n",
        "cat_files = glob.glob('Dog-Cat-Classifier/Data/Train_Data/cat/*.jpg')\n",
        "\n",
        "files = dog_files + cat_files\n",
        "print(f\"Dog images: {len(dog_files)}\")\n",
        "print(f\"Cat images: {len(cat_files)}\")\n",
        "print(f'Total number of images: {len(files)}')\n",
        "no_of_images = len(files)\n"
      ],
      "metadata": {
        "colab": {
          "base_uri": "https://localhost:8080/"
        },
        "id": "l57kGYPt9Wtz",
        "outputId": "41c01055-63ca-470e-9853-d42bbb84d48c"
      },
      "execution_count": null,
      "outputs": [
        {
          "output_type": "stream",
          "name": "stdout",
          "text": [
            "Dog images: 699\n",
            "Cat images: 700\n",
            "Total number of images: 1399\n"
          ]
        }
      ]
    },
    {
      "cell_type": "code",
      "source": [
        "import numpy as np\n",
        "shuffle = np.random.permutation(no_of_images)"
      ],
      "metadata": {
        "id": "Y5bCSdBVDBjm"
      },
      "execution_count": null,
      "outputs": []
    },
    {
      "cell_type": "code",
      "source": [
        "import os #os from python module, creates directory, recursively\n",
        "\n",
        "for t in ['train', 'valid']:\n",
        "    for folder in ['dog', 'cat']:\n",
        "        full_path = os.path.join(path, t, folder) #path is Dog-Cat_Classifier/Data/Train_Data, then put t-train and valid, and then add folder-dog and cat\n",
        "        os.makedirs(full_path, exist_ok=True) #this creates folders, specifically if they don't exist so prevents error\n",
        "#this makes folder of train/dog, train/cat, valid/dog, valid/cat"
      ],
      "metadata": {
        "id": "Z8ZNveBCIr4I"
      },
      "execution_count": null,
      "outputs": []
    },
    {
      "cell_type": "code",
      "source": [
        "import os\n",
        "import glob # Import glob to re-read file paths\n",
        "\n",
        "path = 'Dog-Cat-Classifier/Data/Train_Data/'\n",
        "\n",
        "# Separate the files into train and valid sets based on the shuffle\n",
        "train_files = shuffle[250:]\n",
        "valid_files = shuffle[:250]\n",
        "\n",
        "# Move files to valid directory\n",
        "for i in valid_files:\n",
        "    folder = files[i].split('/')[-2].split('.')[0]\n",
        "    image = files[i].split('/')[-1]\n",
        "    # Check if the file is still in the original location before attempting to move\n",
        "    original_path = files[i]\n",
        "    if os.path.exists(original_path):\n",
        "        os.rename(original_path, os.path.join(path, 'valid', folder, image))\n",
        "\n",
        "\n",
        "# Re-read the files to get their current locations\n",
        "dog_files_valid = glob.glob(os.path.join(path, 'valid', 'dog', '*.jpg'))\n",
        "cat_files_valid = glob.glob(os.path.join(path, 'valid', 'cat', '*.jpg'))\n",
        "dog_files_train_original = glob.glob(os.path.join(path, 'dog', '*.jpg')) # Files still in original dog folder\n",
        "cat_files_train_original = glob.glob(os.path.join(path, 'cat', '*.jpg')) # Files still in original cat folder\n",
        "\n",
        "# Update the files list with current locations - only include files not in valid\n",
        "current_files = dog_files_valid + cat_files_valid + dog_files_train_original + cat_files_train_original\n",
        "\n",
        "\n",
        "# Move the remaining files (those not in valid) to the train directory\n",
        "for file_path in current_files:\n",
        "    if 'valid' not in file_path: # Only move files that are not already in the valid directory\n",
        "        folder = file_path.split('/')[-2].split('.')[0]\n",
        "        image = file_path.split('/')[-1]\n",
        "        os.rename(file_path, os.path.join(path, 'train', folder, image))"
      ],
      "metadata": {
        "id": "AqNxC-OoJ2xU"
      },
      "execution_count": null,
      "outputs": []
    },
    {
      "cell_type": "code",
      "source": [
        "from torchvision import transforms\n",
        "from torchvision.datasets import ImageFolder\n",
        "from torch.utils.data import DataLoader\n",
        "\n",
        "transform = transforms.Compose([transforms.Resize((224,224)) #standarizes size\n",
        " ,transforms.ToTensor() #converts img to tensor channels are RGB (3), then you have height and width=224 as opposed to HWC, rearraged. Also colour revalued to 0-1 per channel\n",
        " ,transforms.Normalize([0.12, 0.11, 0.40], [0.89, 0.21, 0.12])]) #pixel norm=pixel-mean/sd, this makes mean 0 and SD=1\n",
        "\n",
        "train = ImageFolder('Dog-Cat-Classifier/Data/Train_Data/train/',transform) #holds images & associated labels for dataset, gives map b/w classes and index in dataset & one gives list of classes\n",
        "valid = ImageFolder('Dog-Cat-Classifier/Data/Train_Data/valid/',transform)\n"
      ],
      "metadata": {
        "id": "ah_CxJjCbBGH"
      },
      "execution_count": null,
      "outputs": []
    },
    {
      "cell_type": "code",
      "source": [
        "#These are two attributes of the ImageFolder\n",
        "train.class_to_idx - {'cat': 0, 'dog': 1}  #maps class names to labels: folder names (w/ subdirectories under train/) to integer class labels.\n",
        "train.classes - ['cat', 'dog'] #ordered list of class names,"
      ],
      "metadata": {
        "id": "g8-U_CmVbBIk",
        "colab": {
          "base_uri": "https://localhost:8080/",
          "height": 176
        },
        "outputId": "bc0ead11-45cd-405f-8125-196a45db6370"
      },
      "execution_count": null,
      "outputs": [
        {
          "output_type": "error",
          "ename": "TypeError",
          "evalue": "unsupported operand type(s) for -: 'dict' and 'dict'",
          "traceback": [
            "\u001b[0;31m---------------------------------------------------------------------------\u001b[0m",
            "\u001b[0;31mTypeError\u001b[0m                                 Traceback (most recent call last)",
            "\u001b[0;32m/tmp/ipython-input-45-823340869.py\u001b[0m in \u001b[0;36m<cell line: 0>\u001b[0;34m()\u001b[0m\n\u001b[1;32m      1\u001b[0m \u001b[0;31m#These are two attributes of the ImageFolder\u001b[0m\u001b[0;34m\u001b[0m\u001b[0;34m\u001b[0m\u001b[0m\n\u001b[0;32m----> 2\u001b[0;31m \u001b[0mtrain\u001b[0m\u001b[0;34m.\u001b[0m\u001b[0mclass_to_idx\u001b[0m \u001b[0;34m-\u001b[0m \u001b[0;34m{\u001b[0m\u001b[0;34m'cat'\u001b[0m\u001b[0;34m:\u001b[0m \u001b[0;36m0\u001b[0m\u001b[0;34m,\u001b[0m \u001b[0;34m'dog'\u001b[0m\u001b[0;34m:\u001b[0m \u001b[0;36m1\u001b[0m\u001b[0;34m}\u001b[0m  \u001b[0;31m#maps class names to labels: folder names (w/ subdirectories under train/) to integer class labels.\u001b[0m\u001b[0;34m\u001b[0m\u001b[0;34m\u001b[0m\u001b[0m\n\u001b[0m\u001b[1;32m      3\u001b[0m \u001b[0mtrain\u001b[0m\u001b[0;34m.\u001b[0m\u001b[0mclasses\u001b[0m \u001b[0;34m-\u001b[0m \u001b[0;34m[\u001b[0m\u001b[0;34m'cat'\u001b[0m\u001b[0;34m,\u001b[0m \u001b[0;34m'dog'\u001b[0m\u001b[0;34m]\u001b[0m \u001b[0;31m#ordered list of class names,\u001b[0m\u001b[0;34m\u001b[0m\u001b[0;34m\u001b[0m\u001b[0m\n",
            "\u001b[0;31mTypeError\u001b[0m: unsupported operand type(s) for -: 'dict' and 'dict'"
          ]
        }
      ]
    },
    {
      "cell_type": "code",
      "source": [
        "import matplotlib.pyplot as plt\n",
        "import numpy as np\n",
        "\n",
        "def imshow(inp):\n",
        "    \"\"\"Display a tensor image (un-normalized).\"\"\"\n",
        "    inp = inp.numpy().transpose((1, 2, 0))  # [C, H, W] → [H, W, C]\n",
        "    mean = np.array([0.12, 0.12, 0.40])\n",
        "    std = np.array([0.22, 0.20, 0.20])\n",
        "    inp = std * inp + mean  # unnormalize\n",
        "    inp = np.clip(inp, 0, 1)\n",
        "    plt.imshow(inp)\n",
        "    plt.axis('off')\n",
        "    plt.show()\n"
      ],
      "metadata": {
        "id": "Ht4QUqS8bBNK"
      },
      "execution_count": null,
      "outputs": []
    },
    {
      "cell_type": "code",
      "source": [
        "imshow(train[30][0]) #the 0 is saying to return image not label (that would be 1), train is an torchvision.datasets.ImageFolder object, list of training objects returns a tuple"
      ],
      "metadata": {
        "colab": {
          "base_uri": "https://localhost:8080/",
          "height": 406
        },
        "id": "ADXLB_kPbBPs",
        "outputId": "61182a0c-5d05-49b0-a2ba-2de7c0287cb8"
      },
      "execution_count": null,
      "outputs": [
        {
          "output_type": "display_data",
          "data": {
            "text/plain": [
              "<Figure size 640x480 with 1 Axes>"
            ],
            "image/png": "[encoded data removed]"
          },
          "metadata": {}
        }
      ]
    },
    {
      "cell_type": "code",
      "source": [
        "#DataLoader Class takes in dataset and returns batches of images, batches better for GPU"
      ],
      "metadata": {
        "id": "nHnqO7czJ2za"
      },
      "execution_count": null,
      "outputs": []
    },
    {
      "cell_type": "code",
      "source": [
        "train_data_generator = torch.utils.data.DataLoader(train,shuffle=True,batch_size=64,num_workers=2) #adjusted num workers to 2 isntead of 8 to prevent slow/freezing as recommended\n",
        "valid_data_generator = torch.utils.data.DataLoader(valid,batch_size=64,num_workers=2)"
      ],
      "metadata": {
        "id": "Vrl8UlbhtScy"
      },
      "execution_count": null,
      "outputs": []
    },
    {
      "cell_type": "code",
      "source": [
        "import  torchvision.models as models\n",
        "pretrained_resnet = models.resnet18(pretrained=True)\n",
        "number_features = pretrained_resnet.fc.in_features\n",
        "pretrained_resnet.fc = nn.Linear(number_features, 4)"
      ],
      "metadata": {
        "id": "NJsIfnKptSfJ",
        "colab": {
          "base_uri": "https://localhost:8080/"
        },
        "outputId": "015498d0-396e-4947-f207-3e7c42757bbf"
      },
      "execution_count": null,
      "outputs": [
        {
          "output_type": "stream",
          "name": "stderr",
          "text": [
            "/usr/local/lib/python3.11/dist-packages/torchvision/models/_utils.py:208: UserWarning: The parameter 'pretrained' is deprecated since 0.13 and may be removed in the future, please use 'weights' instead.\n",
            "  warnings.warn(\n",
            "/usr/local/lib/python3.11/dist-packages/torchvision/models/_utils.py:223: UserWarning: Arguments other than a weight enum or `None` for 'weights' are deprecated since 0.13 and may be removed in the future. The current behavior is equivalent to passing `weights=ResNet18_Weights.IMAGENET1K_V1`. You can also use `weights=ResNet18_Weights.DEFAULT` to get the most up-to-date weights.\n",
            "  warnings.warn(msg)\n",
            "Downloading: \"https://download.pytorch.org/models/resnet18-f37072fd.pth\" to /root/.cache/torch/hub/checkpoints/resnet18-f37072fd.pth\n",
            "100%|██████████| 44.7M/44.7M [00:00<00:00, 73.3MB/s]\n"
          ]
        }
      ]
    },
    {
      "cell_type": "code",
      "source": [
        "print(pretrained_resnet)"
      ],
      "metadata": {
        "id": "s-h-gfMktShb",
        "colab": {
          "base_uri": "https://localhost:8080/"
        },
        "collapsed": true,
        "outputId": "b9bd6b01-debf-44cc-edec-7be7e8434bd8"
      },
      "execution_count": null,
      "outputs": [
        {
          "output_type": "stream",
          "name": "stdout",
          "text": [
            "ResNet(\n",
            "  (conv1): Conv2d(3, 64, kernel_size=(7, 7), stride=(2, 2), padding=(3, 3), bias=False)\n",
            "  (bn1): BatchNorm2d(64, eps=1e-05, momentum=0.1, affine=True, track_running_stats=True)\n",
            "  (relu): ReLU(inplace=True)\n",
            "  (maxpool): MaxPool2d(kernel_size=3, stride=2, padding=1, dilation=1, ceil_mode=False)\n",
            "  (layer1): Sequential(\n",
            "    (0): BasicBlock(\n",
            "      (conv1): Conv2d(64, 64, kernel_size=(3, 3), stride=(1, 1), padding=(1, 1), bias=False)\n",
            "      (bn1): BatchNorm2d(64, eps=1e-05, momentum=0.1, affine=True, track_running_stats=True)\n",
            "      (relu): ReLU(inplace=True)\n",
            "      (conv2): Conv2d(64, 64, kernel_size=(3, 3), stride=(1, 1), padding=(1, 1), bias=False)\n",
            "      (bn2): BatchNorm2d(64, eps=1e-05, momentum=0.1, affine=True, track_running_stats=True)\n",
            "    )\n",
            "    (1): BasicBlock(\n",
            "      (conv1): Conv2d(64, 64, kernel_size=(3, 3), stride=(1, 1), padding=(1, 1), bias=False)\n",
            "      (bn1): BatchNorm2d(64, eps=1e-05, momentum=0.1, affine=True, track_running_stats=True)\n",
            "      (relu): ReLU(inplace=True)\n",
            "      (conv2): Conv2d(64, 64, kernel_size=(3, 3), stride=(1, 1), padding=(1, 1), bias=False)\n",
            "      (bn2): BatchNorm2d(64, eps=1e-05, momentum=0.1, affine=True, track_running_stats=True)\n",
            "    )\n",
            "  )\n",
            "  (layer2): Sequential(\n",
            "    (0): BasicBlock(\n",
            "      (conv1): Conv2d(64, 128, kernel_size=(3, 3), stride=(2, 2), padding=(1, 1), bias=False)\n",
            "      (bn1): BatchNorm2d(128, eps=1e-05, momentum=0.1, affine=True, track_running_stats=True)\n",
            "      (relu): ReLU(inplace=True)\n",
            "      (conv2): Conv2d(128, 128, kernel_size=(3, 3), stride=(1, 1), padding=(1, 1), bias=False)\n",
            "      (bn2): BatchNorm2d(128, eps=1e-05, momentum=0.1, affine=True, track_running_stats=True)\n",
            "      (downsample): Sequential(\n",
            "        (0): Conv2d(64, 128, kernel_size=(1, 1), stride=(2, 2), bias=False)\n",
            "        (1): BatchNorm2d(128, eps=1e-05, momentum=0.1, affine=True, track_running_stats=True)\n",
            "      )\n",
            "    )\n",
            "    (1): BasicBlock(\n",
            "      (conv1): Conv2d(128, 128, kernel_size=(3, 3), stride=(1, 1), padding=(1, 1), bias=False)\n",
            "      (bn1): BatchNorm2d(128, eps=1e-05, momentum=0.1, affine=True, track_running_stats=True)\n",
            "      (relu): ReLU(inplace=True)\n",
            "      (conv2): Conv2d(128, 128, kernel_size=(3, 3), stride=(1, 1), padding=(1, 1), bias=False)\n",
            "      (bn2): BatchNorm2d(128, eps=1e-05, momentum=0.1, affine=True, track_running_stats=True)\n",
            "    )\n",
            "  )\n",
            "  (layer3): Sequential(\n",
            "    (0): BasicBlock(\n",
            "      (conv1): Conv2d(128, 256, kernel_size=(3, 3), stride=(2, 2), padding=(1, 1), bias=False)\n",
            "      (bn1): BatchNorm2d(256, eps=1e-05, momentum=0.1, affine=True, track_running_stats=True)\n",
            "      (relu): ReLU(inplace=True)\n",
            "      (conv2): Conv2d(256, 256, kernel_size=(3, 3), stride=(1, 1), padding=(1, 1), bias=False)\n",
            "      (bn2): BatchNorm2d(256, eps=1e-05, momentum=0.1, affine=True, track_running_stats=True)\n",
            "      (downsample): Sequential(\n",
            "        (0): Conv2d(128, 256, kernel_size=(1, 1), stride=(2, 2), bias=False)\n",
            "        (1): BatchNorm2d(256, eps=1e-05, momentum=0.1, affine=True, track_running_stats=True)\n",
            "      )\n",
            "    )\n",
            "    (1): BasicBlock(\n",
            "      (conv1): Conv2d(256, 256, kernel_size=(3, 3), stride=(1, 1), padding=(1, 1), bias=False)\n",
            "      (bn1): BatchNorm2d(256, eps=1e-05, momentum=0.1, affine=True, track_running_stats=True)\n",
            "      (relu): ReLU(inplace=True)\n",
            "      (conv2): Conv2d(256, 256, kernel_size=(3, 3), stride=(1, 1), padding=(1, 1), bias=False)\n",
            "      (bn2): BatchNorm2d(256, eps=1e-05, momentum=0.1, affine=True, track_running_stats=True)\n",
            "    )\n",
            "  )\n",
            "  (layer4): Sequential(\n",
            "    (0): BasicBlock(\n",
            "      (conv1): Conv2d(256, 512, kernel_size=(3, 3), stride=(2, 2), padding=(1, 1), bias=False)\n",
            "      (bn1): BatchNorm2d(512, eps=1e-05, momentum=0.1, affine=True, track_running_stats=True)\n",
            "      (relu): ReLU(inplace=True)\n",
            "      (conv2): Conv2d(512, 512, kernel_size=(3, 3), stride=(1, 1), padding=(1, 1), bias=False)\n",
            "      (bn2): BatchNorm2d(512, eps=1e-05, momentum=0.1, affine=True, track_running_stats=True)\n",
            "      (downsample): Sequential(\n",
            "        (0): Conv2d(256, 512, kernel_size=(1, 1), stride=(2, 2), bias=False)\n",
            "        (1): BatchNorm2d(512, eps=1e-05, momentum=0.1, affine=True, track_running_stats=True)\n",
            "      )\n",
            "    )\n",
            "    (1): BasicBlock(\n",
            "      (conv1): Conv2d(512, 512, kernel_size=(3, 3), stride=(1, 1), padding=(1, 1), bias=False)\n",
            "      (bn1): BatchNorm2d(512, eps=1e-05, momentum=0.1, affine=True, track_running_stats=True)\n",
            "      (relu): ReLU(inplace=True)\n",
            "      (conv2): Conv2d(512, 512, kernel_size=(3, 3), stride=(1, 1), padding=(1, 1), bias=False)\n",
            "      (bn2): BatchNorm2d(512, eps=1e-05, momentum=0.1, affine=True, track_running_stats=True)\n",
            "    )\n",
            "  )\n",
            "  (avgpool): AdaptiveAvgPool2d(output_size=(1, 1))\n",
            "  (fc): Linear(in_features=512, out_features=4, bias=True)\n",
            ")\n"
          ]
        }
      ]
    },
    {
      "cell_type": "code",
      "source": [
        "pretrained_resnet.fc = nn.Linear(number_features, 4)"
      ],
      "metadata": {
        "id": "v2aW8W-mtSjg"
      },
      "execution_count": null,
      "outputs": []
    },
    {
      "cell_type": "code",
      "source": [
        "learning_rate = 0.005\n",
        "criterion = nn.CrossEntropyLoss()\n",
        "fit_optimizer = optim.SGD(pretrained_resnet.parameters(), lr=0.005,momentum=0.6)\n",
        "exp_learning_rate_scheduler = lr_scheduler.StepLR(fit_optimizer,\n",
        "step_size=2, gamma=0.05)\n"
      ],
      "metadata": {
        "id": "qvlII0CNAglJ"
      },
      "execution_count": null,
      "outputs": []
    },
    {
      "cell_type": "code",
      "source": [
        "#Just move on to Chapter 4"
      ],
      "metadata": {
        "id": "h5_ifHOyB9hR"
      },
      "execution_count": null,
      "outputs": []
    },
    {
      "cell_type": "code",
      "source": [],
      "metadata": {
        "id": "R3yww0qVDlvs"
      },
      "execution_count": null,
      "outputs": []
    },
    {
      "cell_type": "code",
      "source": [],
      "metadata": {
        "id": "Su1ft5zqDlzH"
      },
      "execution_count": null,
      "outputs": []
    }
  ]
}